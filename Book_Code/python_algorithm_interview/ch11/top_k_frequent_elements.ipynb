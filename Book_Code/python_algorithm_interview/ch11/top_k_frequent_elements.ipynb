{
 "cells": [
  {
   "cell_type": "code",
   "execution_count": null,
   "metadata": {},
   "outputs": [],
   "source": [
    "from typing import List\n",
    "import collections, heapq\n",
    "\n",
    "nums = [1, 1, 1, 2, 2, 3]\n",
    "k = 2"
   ]
  },
  {
   "cell_type": "markdown",
   "metadata": {},
   "source": [
    "## Counter를 이용한 음수 순 추출"
   ]
  },
  {
   "cell_type": "code",
   "execution_count": null,
   "metadata": {},
   "outputs": [],
   "source": [
    "def topKFrequent(nums: List[int], k: int) -> List[int]:\n",
    "    freqs = collections.Counter(nums)\n",
    "    freqs_heap = []\n",
    "    \n",
    "    for f in freqs:\n",
    "        heapq.heappush(freqs_heap, (-freqs[f], f))\n",
    "        \n",
    "    topk = list()\n",
    "    for _ in range(k):\n",
    "        topk.append(heapq.heappop(freqs_heap)[1])\n",
    "        \n",
    "    return topk\n",
    "\n",
    "topKFrequent(nums, k)"
   ]
  },
  {
   "cell_type": "markdown",
   "metadata": {},
   "source": [
    "## 파이썬다운 방식"
   ]
  },
  {
   "cell_type": "code",
   "execution_count": null,
   "metadata": {},
   "outputs": [],
   "source": [
    "def topKFrequent(nums, k):\n",
    "    return list(zip(*collections.Counter(nums).most_common(k)))[0]\n",
    "\n",
    "topKFrequent(nums, k)"
   ]
  }
 ],
 "metadata": {
  "kernelspec": {
   "display_name": "Python 3",
   "language": "python",
   "name": "python3"
  },
  "language_info": {
   "codemirror_mode": {
    "name": "ipython",
    "version": 3
   },
   "file_extension": ".py",
   "mimetype": "text/x-python",
   "name": "python",
   "nbconvert_exporter": "python",
   "pygments_lexer": "ipython3",
   "version": "3.8.5"
  }
 },
 "nbformat": 4,
 "nbformat_minor": 4
}

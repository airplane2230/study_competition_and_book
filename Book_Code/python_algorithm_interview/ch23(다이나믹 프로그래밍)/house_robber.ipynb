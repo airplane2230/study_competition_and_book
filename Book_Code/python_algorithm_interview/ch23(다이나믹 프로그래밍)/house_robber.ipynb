{
 "cells": [
  {
   "cell_type": "code",
   "execution_count": null,
   "metadata": {},
   "outputs": [],
   "source": [
    "test_case = [1, 2, 3, 1]"
   ]
  },
  {
   "cell_type": "markdown",
   "metadata": {},
   "source": [
    "## 재귀 구조 브루트 포스"
   ]
  },
  {
   "cell_type": "code",
   "execution_count": null,
   "metadata": {},
   "outputs": [],
   "source": [
    "from typing import List\n",
    "\n",
    "def rob(nums: List[int]) -> int:\n",
    "    def _rob(i: int) -> int:\n",
    "        if i < 0:\n",
    "            return 0\n",
    "        return max(_rob(i - 1), _rob(i - 2) + nums[i])\n",
    "\n",
    "    return _rob(len(nums) - 1)\n",
    "\n",
    "rob(test_case)"
   ]
  },
  {
   "cell_type": "markdown",
   "metadata": {},
   "source": [
    "## 타뷸레이션"
   ]
  },
  {
   "cell_type": "code",
   "execution_count": null,
   "metadata": {},
   "outputs": [],
   "source": [
    "import collections\n",
    "\n",
    "def rob(nums: List[int]) -> int:\n",
    "    if not nums:\n",
    "        return 0\n",
    "    \n",
    "    if len(nums) <= 2:\n",
    "        return max(nums)\n",
    "    \n",
    "    dp = collections.OrderedDict()\n",
    "    dp[0], dp[1] = nums[0], max(nums[0], nums[1])\n",
    "    \n",
    "    for i in range(2, len(nums)):\n",
    "        dp[i] = max(dp[i - 1], dp[i - 2] + nums[i])\n",
    "        \n",
    "    return dp.popitem()[1]\n",
    "\n",
    "rob(test_case)"
   ]
  }
 ],
 "metadata": {
  "kernelspec": {
   "display_name": "Python 3",
   "language": "python",
   "name": "python3"
  },
  "language_info": {
   "codemirror_mode": {
    "name": "ipython",
    "version": 3
   },
   "file_extension": ".py",
   "mimetype": "text/x-python",
   "name": "python",
   "nbconvert_exporter": "python",
   "pygments_lexer": "ipython3",
   "version": "3.8.5"
  }
 },
 "nbformat": 4,
 "nbformat_minor": 4
}

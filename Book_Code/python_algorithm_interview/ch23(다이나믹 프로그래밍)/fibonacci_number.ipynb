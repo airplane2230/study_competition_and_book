{
 "cells": [
  {
   "cell_type": "markdown",
   "metadata": {},
   "source": [
    "## 재귀 구조 브루트 포스"
   ]
  },
  {
   "cell_type": "code",
   "execution_count": null,
   "metadata": {},
   "outputs": [],
   "source": [
    "def fib(N: int) -> int:\n",
    "    if N <= 1:\n",
    "        return N\n",
    "    return fib(N - 1) + fib(N - 2)"
   ]
  },
  {
   "cell_type": "markdown",
   "metadata": {},
   "source": [
    "## 메모이제이션"
   ]
  },
  {
   "cell_type": "code",
   "execution_count": null,
   "metadata": {},
   "outputs": [],
   "source": [
    "import collections\n",
    "\n",
    "class Solution:\n",
    "    dp = collections.defaultdict(int)\n",
    "    \n",
    "    def fib(N: int) -> int:\n",
    "        if N <= 1:\n",
    "            return N\n",
    "        \n",
    "        if dp[N]:\n",
    "            return dp[N]\n",
    "        \n",
    "        dp[N] = fib(N - 1) + fib(N - 2)\n",
    "        \n",
    "        return dp[N]"
   ]
  },
  {
   "cell_type": "markdown",
   "metadata": {},
   "source": [
    "## 타뷸레이션"
   ]
  },
  {
   "cell_type": "code",
   "execution_count": null,
   "metadata": {},
   "outputs": [],
   "source": [
    "class Solution:\n",
    "    dp = collections.defaultdict(int)\n",
    "    \n",
    "    def fib(N: int) -> int:\n",
    "        dp[1] = 1\n",
    "        \n",
    "        for i in range(2, N + 1):\n",
    "            dp[i] = dp[i - 1] + dp[i - 2]\n",
    "            \n",
    "        return dp[N]"
   ]
  },
  {
   "cell_type": "markdown",
   "metadata": {},
   "source": [
    "## 두 변수만 이용해 공간 절약"
   ]
  },
  {
   "cell_type": "code",
   "execution_count": null,
   "metadata": {},
   "outputs": [],
   "source": [
    "def fib(N: int) -> int:\n",
    "    x, y = 0, 1\n",
    "    for i in range(0, N):\n",
    "        x, y = y, x + y\n",
    "        \n",
    "    return x"
   ]
  },
  {
   "cell_type": "markdown",
   "metadata": {},
   "source": [
    "## 행렬"
   ]
  },
  {
   "cell_type": "code",
   "execution_count": null,
   "metadata": {},
   "outputs": [],
   "source": [
    "import numpy as np\n",
    "\n",
    "def fib(n):\n",
    "    M = np.matrix([[0, 1], [1, 1]])\n",
    "    vec = np.array([[0], [1]])\n",
    "    \n",
    "    return np.matmul(M ** n, vec)[0]"
   ]
  }
 ],
 "metadata": {
  "kernelspec": {
   "display_name": "Python 3",
   "language": "python",
   "name": "python3"
  },
  "language_info": {
   "codemirror_mode": {
    "name": "ipython",
    "version": 3
   },
   "file_extension": ".py",
   "mimetype": "text/x-python",
   "name": "python",
   "nbconvert_exporter": "python",
   "pygments_lexer": "ipython3",
   "version": "3.8.5"
  }
 },
 "nbformat": 4,
 "nbformat_minor": 4
}

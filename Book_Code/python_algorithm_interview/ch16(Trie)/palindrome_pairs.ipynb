{
 "cells": [
  {
   "cell_type": "markdown",
   "metadata": {},
   "source": [
    "## 팰린드롬을 브루트 포스로 계산"
   ]
  },
  {
   "cell_type": "code",
   "execution_count": null,
   "metadata": {},
   "outputs": [],
   "source": [
    "from typing import List\n",
    "import collections\n",
    "\n",
    "test_case = ['abcd', 'dcba', 'lls', 's', 'sssll']"
   ]
  },
  {
   "cell_type": "code",
   "execution_count": null,
   "metadata": {},
   "outputs": [],
   "source": [
    "def palindromePairs(words: List[str]) -> List[List[int]]:\n",
    "    def is_palindrome(word):\n",
    "        return word == word[::-1]\n",
    "    \n",
    "    output = []\n",
    "    for i, word1 in enumerate(words):\n",
    "        for j, word2 in enumerate(words):\n",
    "            if i == j:\n",
    "                continue\n",
    "            if is_palindrome(word1 + word2):\n",
    "                output.append([i, j])\n",
    "                \n",
    "    return output\n",
    "\n",
    "palindromePairs(test_case)"
   ]
  },
  {
   "cell_type": "markdown",
   "metadata": {},
   "source": [
    "## 트라이 구현"
   ]
  },
  {
   "cell_type": "code",
   "execution_count": null,
   "metadata": {},
   "outputs": [],
   "source": [
    "class TrieNode:\n",
    "    def __init__(self):\n",
    "        self.children = collections.defaultdict(TrieNode)\n",
    "        self.word_id = -1\n",
    "        self.palindrome_word_ids = []\n",
    "        \n",
    "class Trie:\n",
    "    def __init__(self):\n",
    "        self.root = TrieNode()\n",
    "        \n",
    "    @staticmethod\n",
    "    def is_palindrome(word: str) -> bool:\n",
    "        return word[::] == word[::-1]\n",
    "    \n",
    "    # 단어 삽입\n",
    "    def insert(self, index, word) -> None:\n",
    "        node = self.root\n",
    "        for i, char in enumerate(reversed(word)):\n",
    "            if self.is_palindrome(word[0:len(word) -i]):\n",
    "                node.palindrome_word_ids.append(index)\n",
    "            node = node.children[char]\n",
    "        node.word_id = index\n",
    "        \n",
    "    def search(self, index, word) -> List[List[int]]:\n",
    "        result = []\n",
    "        node = self.root\n",
    "        \n",
    "        while word:\n",
    "            # 판별 로직 3\n",
    "            # word가 팰린드롬이면 \n",
    "            if node.word_id >= 0:\n",
    "                if self.is_palindrome(word):\n",
    "                    result.append([index, node.word_id])\n",
    "            # character가 children에 없으면 더이상 진행이 안되므로 result 반환\n",
    "            if not word[0] in node.children:\n",
    "                return result\n",
    "            node = node.children[word[0]]\n",
    "            word = word[1:]\n",
    "            \n",
    "        # 판별 로직 1\n",
    "        if node.word_id >= 0 and node.word_id != index:\n",
    "            result.append([index, node.word_id])\n",
    "            \n",
    "        # 판별 로직 2\n",
    "        for palindrome_word_id in node.palindrome_word_ids:\n",
    "            result.append([index, palindrome_word_id])\n",
    "            \n",
    "        return result\n",
    "    \n",
    "class Solution:\n",
    "    def palindromePairs(self, words: List[str]) -> List[List[int]]:\n",
    "        trie = Trie()\n",
    "        \n",
    "        for i, word in enumerate(words):\n",
    "            trie.insert(i, word)\n",
    "            \n",
    "        results = []\n",
    "        for i, word in enumerate(words):\n",
    "            results.extend(trie.search(i, word))\n",
    "            \n",
    "        return results\n",
    "    \n",
    "sol = Solution()\n",
    "sol.palindromePairs(test_case)"
   ]
  },
  {
   "cell_type": "code",
   "execution_count": null,
   "metadata": {},
   "outputs": [],
   "source": []
  }
 ],
 "metadata": {
  "kernelspec": {
   "display_name": "Python 3",
   "language": "python",
   "name": "python3"
  },
  "language_info": {
   "codemirror_mode": {
    "name": "ipython",
    "version": 3
   },
   "file_extension": ".py",
   "mimetype": "text/x-python",
   "name": "python",
   "nbconvert_exporter": "python",
   "pygments_lexer": "ipython3",
   "version": "3.8.5"
  }
 },
 "nbformat": 4,
 "nbformat_minor": 4
}

{
 "cells": [
  {
   "cell_type": "code",
   "execution_count": null,
   "metadata": {},
   "outputs": [],
   "source": [
    "test = \"2-1-1\""
   ]
  },
  {
   "cell_type": "markdown",
   "metadata": {},
   "source": [
    "## 분할 정복을 이용한 다양한 조합"
   ]
  },
  {
   "cell_type": "code",
   "execution_count": null,
   "metadata": {},
   "outputs": [],
   "source": [
    "from typing import List\n",
    "\n",
    "def diffWaysToCompute(input: str) -> List[int]:\n",
    "    def compute(left, right, op):\n",
    "        results = []\n",
    "        \n",
    "        for l in left:\n",
    "            for r in right:\n",
    "                results.append(eval(str(l) + op + str(r)))\n",
    "                \n",
    "        return results\n",
    "    \n",
    "    if input.isdigit():\n",
    "        return [int(input)]\n",
    "    \n",
    "    results = []\n",
    "    for index, value in enumerate(input):\n",
    "        if value in '-**':\n",
    "            left = diffWaysToCompute(input[:index])\n",
    "            right = diffWaysToCompute(input[index + 1:])\n",
    "            \n",
    "            results.extend(compute(left, right, value))\n",
    "            \n",
    "    return results\n",
    "\n",
    "diffWaysToCompute(test)"
   ]
  }
 ],
 "metadata": {
  "kernelspec": {
   "display_name": "Python 3",
   "language": "python",
   "name": "python3"
  },
  "language_info": {
   "codemirror_mode": {
    "name": "ipython",
    "version": 3
   },
   "file_extension": ".py",
   "mimetype": "text/x-python",
   "name": "python",
   "nbconvert_exporter": "python",
   "pygments_lexer": "ipython3",
   "version": "3.8.5"
  }
 },
 "nbformat": 4,
 "nbformat_minor": 4
}

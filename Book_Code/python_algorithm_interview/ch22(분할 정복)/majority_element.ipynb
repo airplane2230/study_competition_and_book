{
 "cells": [
  {
   "cell_type": "code",
   "execution_count": null,
   "metadata": {},
   "outputs": [],
   "source": [
    "test = [3, 2, 3]"
   ]
  },
  {
   "cell_type": "markdown",
   "metadata": {},
   "source": [
    "## 브루트 포스로 과반수 비교"
   ]
  },
  {
   "cell_type": "code",
   "execution_count": null,
   "metadata": {},
   "outputs": [],
   "source": [
    "from typing import List\n",
    "\n",
    "def majorityElement(nums: List[int]) -> int:\n",
    "    for num in nums:\n",
    "        if nums.count(num) > len(nums) // 2:\n",
    "            return num\n",
    "        \n",
    "majorityElement(test)"
   ]
  },
  {
   "cell_type": "markdown",
   "metadata": {},
   "source": [
    "## 다이나믹 프로그래밍"
   ]
  },
  {
   "cell_type": "code",
   "execution_count": null,
   "metadata": {},
   "outputs": [],
   "source": [
    "import collections\n",
    "\n",
    "def majorityElement(nums: List[int]) -> int:\n",
    "    counts = collections.defaultdict(int)\n",
    "    \n",
    "    for num in nums:\n",
    "        if counts[num] == 0:\n",
    "            counts[num] = nums.count(num)\n",
    "            \n",
    "        if counts[num] > len(nums) // 2:\n",
    "            return num\n",
    "        \n",
    "majorityElement(test)"
   ]
  },
  {
   "cell_type": "markdown",
   "metadata": {},
   "source": [
    "## 분할 정복"
   ]
  },
  {
   "cell_type": "code",
   "execution_count": null,
   "metadata": {},
   "outputs": [],
   "source": [
    "def majorityElement(nums: List[int]) -> int:\n",
    "    if not nums:\n",
    "        return None\n",
    "    if len(nums) == 1:\n",
    "        return nums[0]\n",
    "    \n",
    "    half = len(nums) // 2\n",
    "    a = majorityElement(nums[:half])\n",
    "    b = majorityElement(nums[half:])\n",
    "    \n",
    "    return [b, a][nums.count(a) > half]\n",
    "\n",
    "majorityElement(test)"
   ]
  },
  {
   "cell_type": "markdown",
   "metadata": {},
   "source": [
    "## 파이썬다운 방식"
   ]
  },
  {
   "cell_type": "code",
   "execution_count": null,
   "metadata": {},
   "outputs": [],
   "source": [
    "def majorityElement(nums: List[int]) -> int:\n",
    "    return sorted(nums)[len(nums) // 2]\n",
    "\n",
    "majorityElement(test)"
   ]
  }
 ],
 "metadata": {
  "kernelspec": {
   "display_name": "Python 3",
   "language": "python",
   "name": "python3"
  },
  "language_info": {
   "codemirror_mode": {
    "name": "ipython",
    "version": 3
   },
   "file_extension": ".py",
   "mimetype": "text/x-python",
   "name": "python",
   "nbconvert_exporter": "python",
   "pygments_lexer": "ipython3",
   "version": "3.8.5"
  }
 },
 "nbformat": 4,
 "nbformat_minor": 4
}

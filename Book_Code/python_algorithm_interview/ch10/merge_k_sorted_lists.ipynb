{
 "cells": [
  {
   "cell_type": "markdown",
   "metadata": {},
   "source": [
    "input\n",
    "\n",
    "[\n",
    "    1 -> 4 -> 5,\n",
    "    1 -> 3 -> 4,\n",
    "    2 -> 6\n",
    "]\n",
    "\n",
    "output\n",
    "\n",
    "1 -> 1 -> 2 -> 3 -> 4 -> 4 -> 5 -> 6"
   ]
  },
  {
   "cell_type": "code",
   "execution_count": null,
   "metadata": {},
   "outputs": [],
   "source": [
    "def mergeKLists(lists: List[ListNode]) -> ListNode:\n",
    "    root = result = ListNode(None)\n",
    "    heap = []\n",
    "    \n",
    "    for i in range(len(lists)):\n",
    "        if lists[i]:\n",
    "            heapq.heappush(heap, (lists[i].val, i, lists[i]))\n",
    "    \n",
    "    while heap:\n",
    "        node = heapq.heappop(heap)\n",
    "        idx = node[1]\n",
    "        result.next = node[2]\n",
    "        \n",
    "        result = result.next\n",
    "        if result.next:\n",
    "            heapq.heappush(heap, (result.next.val, idx, result.next))\n",
    "            \n",
    "    return root.next"
   ]
  }
 ],
 "metadata": {
  "kernelspec": {
   "display_name": "Python 3",
   "language": "python",
   "name": "python3"
  },
  "language_info": {
   "codemirror_mode": {
    "name": "ipython",
    "version": 3
   },
   "file_extension": ".py",
   "mimetype": "text/x-python",
   "name": "python",
   "nbconvert_exporter": "python",
   "pygments_lexer": "ipython3",
   "version": "3.8.5"
  }
 },
 "nbformat": 4,
 "nbformat_minor": 4
}

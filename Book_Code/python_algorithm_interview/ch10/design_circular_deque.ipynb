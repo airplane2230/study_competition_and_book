{
 "cells": [
  {
   "cell_type": "code",
   "execution_count": null,
   "metadata": {},
   "outputs": [],
   "source": [
    "class MyCircularDeque:\n",
    "    def __init__(self, k: int):\n",
    "        self.head, self.tail = ListNode(None), ListNode(None)\n",
    "        self.k, self.len = k, 0\n",
    "        self.head.right, self.tail.left = self.tail, self.head\n",
    "        \n",
    "    def _add(self, node: ListNode, new: ListNode):\n",
    "        n = node.right\n",
    "        node.right = new\n",
    "        new.left, new.right = node, n\n",
    "        n.left = new\n",
    "        \n",
    "    def _del(self, node: ListNode):\n",
    "        n = node.right.right\n",
    "        node.right = n\n",
    "        n.left = node\n",
    "        \n",
    "    def insertFront(self, value: int) -> bool:\n",
    "        if self.len == self.k:\n",
    "            return False\n",
    "        self.len += 1\n",
    "        self._add(self.head, ListNode(value))\n",
    "        return True\n",
    "    \n",
    "    def insertLast(self, value: int) -> bool:\n",
    "        if self.len == self.k:\n",
    "            return False\n",
    "        self.len += 1\n",
    "        self._add(self.tail.left, ListNode(value))\n",
    "        return True\n",
    "    \n",
    "    def deleteFront(self) -> bool:\n",
    "        if self.len == 0:\n",
    "            return False\n",
    "        self.len -= 1\n",
    "        self._del(self.head)\n",
    "        return True\n",
    "    \n",
    "    def deleteLast(self) -> bool:\n",
    "        if self.len == 0:\n",
    "            return False\n",
    "        self.len -= 1\n",
    "        self._del(self.tail.left.left)\n",
    "        return True\n",
    "    \n",
    "    def getFront(self) -> int:\n",
    "        return self.head.right.val if self.len else -1\n",
    "    \n",
    "    def getRear(self) -> int:\n",
    "        return self.tail.left.val if self.len else -1\n",
    "    \n",
    "    def isEmpty(self) -> bool:\n",
    "        return self.len == 0\n",
    "    \n",
    "    def isFull(self) -> bool:\n",
    "        return self.len == self.k"
   ]
  }
 ],
 "metadata": {
  "kernelspec": {
   "display_name": "Python 3",
   "language": "python",
   "name": "python3"
  },
  "language_info": {
   "codemirror_mode": {
    "name": "ipython",
    "version": 3
   },
   "file_extension": ".py",
   "mimetype": "text/x-python",
   "name": "python",
   "nbconvert_exporter": "python",
   "pygments_lexer": "ipython3",
   "version": "3.8.5"
  }
 },
 "nbformat": 4,
 "nbformat_minor": 4
}

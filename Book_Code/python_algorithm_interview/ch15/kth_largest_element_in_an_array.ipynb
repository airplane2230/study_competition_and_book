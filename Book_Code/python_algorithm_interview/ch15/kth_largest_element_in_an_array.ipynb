{
 "cells": [
  {
   "cell_type": "code",
   "execution_count": null,
   "metadata": {},
   "outputs": [],
   "source": [
    "from typing import List\n",
    "\n",
    "test_case = [3, 2, 3, 1, 2, 4, 5, 5, 6]\n",
    "k = 4"
   ]
  },
  {
   "cell_type": "markdown",
   "metadata": {},
   "source": [
    "## heapq 모듈 이용"
   ]
  },
  {
   "cell_type": "code",
   "execution_count": null,
   "metadata": {},
   "outputs": [],
   "source": [
    "import heapq\n",
    "\n",
    "def findKthLargest(nums: List[int], k: int) -> int:\n",
    "    heap = list()\n",
    "    for n in nums:\n",
    "        heapq.heappush(heap, -n)\n",
    "        \n",
    "    print(heap)\n",
    "    for _ in range(1, k):\n",
    "        heapq.heappop(heap)\n",
    "        \n",
    "    return -heapq.heappop(heap)\n",
    "\n",
    "findKthLargest(test_case, k)"
   ]
  },
  {
   "cell_type": "markdown",
   "metadata": {},
   "source": [
    "## heapq 모듈의 heapify 이용"
   ]
  },
  {
   "cell_type": "code",
   "execution_count": null,
   "metadata": {},
   "outputs": [],
   "source": [
    "def findKthLargest(nums: List[int], k: int) -> int:\n",
    "    heapq.heapify(nums)\n",
    "    \n",
    "    for _ in range(len(nums) - k):\n",
    "        heapq.heappop(nums)\n",
    "        \n",
    "    return heapq.heappop(nums)\n",
    "\n",
    "findKthLargest(test_case, k)"
   ]
  },
  {
   "cell_type": "markdown",
   "metadata": {},
   "source": [
    "## heapq 모듈의 nlargest 이용"
   ]
  },
  {
   "cell_type": "code",
   "execution_count": null,
   "metadata": {},
   "outputs": [],
   "source": [
    "def findKthLargest(nums: List[int], k: int) -> int:\n",
    "    return heapq.nlargest(k, nums)[-1]\n",
    "\n",
    "findKthLargest(test_case, k)"
   ]
  },
  {
   "cell_type": "markdown",
   "metadata": {},
   "source": [
    "## 정렬을 이용한 풀이"
   ]
  },
  {
   "cell_type": "code",
   "execution_count": null,
   "metadata": {},
   "outputs": [],
   "source": [
    "def findKthLargest(nums: List[int], k: int) -> int:\n",
    "    return sorted(nums, reverse = True)[k - 1]\n",
    "    \n",
    "findKthLargest(test_case, k)"
   ]
  }
 ],
 "metadata": {
  "kernelspec": {
   "display_name": "Python 3",
   "language": "python",
   "name": "python3"
  },
  "language_info": {
   "codemirror_mode": {
    "name": "ipython",
    "version": 3
   },
   "file_extension": ".py",
   "mimetype": "text/x-python",
   "name": "python",
   "nbconvert_exporter": "python",
   "pygments_lexer": "ipython3",
   "version": "3.8.5"
  }
 },
 "nbformat": 4,
 "nbformat_minor": 4
}

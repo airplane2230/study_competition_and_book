{
 "cells": [
  {
   "cell_type": "markdown",
   "metadata": {},
   "source": [
    "## 병합 정렬"
   ]
  },
  {
   "cell_type": "code",
   "execution_count": null,
   "metadata": {},
   "outputs": [],
   "source": [
    "def mergeTwoLists(l1: ListNode, l2: ListNode) -> ListNode:\n",
    "    if l1 and l2:\n",
    "        if l1.val > l2.val:\n",
    "            l1, l2 = l2, l1\n",
    "        l1.next = mergeTwoLists(l1.next, l2)    \n",
    "        \n",
    "    return l1 or l2\n",
    "\n",
    "def sortList(head: ListNode) -> ListNode:\n",
    "    if not (head and head.next):\n",
    "        return head\n",
    "    \n",
    "    # 런너 기법 활용\n",
    "    half, slow, fast = None, head, head\n",
    "    while fast and fast.next:\n",
    "        half, slow, fast = slow, slow.next, fast.next.next\n",
    "    half.next = None\n",
    "    \n",
    "    l1 = sortList(head)\n",
    "    l2 = sortList(slow)\n",
    "    \n",
    "    return mergeTwoLists(l1, l2)"
   ]
  },
  {
   "cell_type": "markdown",
   "metadata": {},
   "source": [
    "## 퀵 정렬\n",
    "    - 타임아웃"
   ]
  },
  {
   "cell_type": "markdown",
   "metadata": {},
   "source": [
    "## 내장 함수를 이용하는 실용적인 방법"
   ]
  },
  {
   "cell_type": "code",
   "execution_count": null,
   "metadata": {},
   "outputs": [],
   "source": [
    "def sortList(head: ListNode) -> ListNode:\n",
    "    p = head\n",
    "    lst: List = []\n",
    "    while p:\n",
    "        lst.append(p.val)\n",
    "        p = p.next\n",
    "        \n",
    "    lst.sort()\n",
    "    \n",
    "    p = head\n",
    "    for i in range(len(lst)):\n",
    "        p.val = lst[i]\n",
    "        p = p.next\n",
    "        \n",
    "    return head"
   ]
  }
 ],
 "metadata": {
  "kernelspec": {
   "display_name": "Python 3",
   "language": "python",
   "name": "python3"
  },
  "language_info": {
   "codemirror_mode": {
    "name": "ipython",
    "version": 3
   },
   "file_extension": ".py",
   "mimetype": "text/x-python",
   "name": "python",
   "nbconvert_exporter": "python",
   "pygments_lexer": "ipython3",
   "version": "3.8.5"
  }
 },
 "nbformat": 4,
 "nbformat_minor": 4
}

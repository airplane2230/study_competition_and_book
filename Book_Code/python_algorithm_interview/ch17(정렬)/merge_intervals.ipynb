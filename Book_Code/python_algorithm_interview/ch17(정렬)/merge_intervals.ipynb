{
 "cells": [
  {
   "cell_type": "code",
   "execution_count": null,
   "metadata": {},
   "outputs": [],
   "source": [
    "from typing import List\n",
    "\n",
    "test_case = [[1, 3], [2, 6], [8, 10], [15, 18]]"
   ]
  },
  {
   "cell_type": "markdown",
   "metadata": {},
   "source": [
    "## 정렬하여 병합"
   ]
  },
  {
   "cell_type": "code",
   "execution_count": null,
   "metadata": {},
   "outputs": [],
   "source": [
    "def merge(intervals: List[List[int]]) -> List[List[int]]:\n",
    "    merged = []\n",
    "    \n",
    "    for i in sorted(intervals, key = lambda x: x[0]):\n",
    "        if merged and i[0] <= merged[-1][1]:\n",
    "            merged[-1][1] = max(merged[-1][1], i[1])\n",
    "        else:\n",
    "            merged += i,\n",
    "            \n",
    "    return merged\n",
    "\n",
    "merge(test_case)"
   ]
  }
 ],
 "metadata": {
  "kernelspec": {
   "display_name": "Python 3",
   "language": "python",
   "name": "python3"
  },
  "language_info": {
   "codemirror_mode": {
    "name": "ipython",
    "version": 3
   },
   "file_extension": ".py",
   "mimetype": "text/x-python",
   "name": "python",
   "nbconvert_exporter": "python",
   "pygments_lexer": "ipython3",
   "version": "3.8.5"
  }
 },
 "nbformat": 4,
 "nbformat_minor": 4
}

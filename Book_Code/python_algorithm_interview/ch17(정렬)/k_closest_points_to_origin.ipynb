{
 "cells": [
  {
   "cell_type": "code",
   "execution_count": null,
   "metadata": {},
   "outputs": [],
   "source": [
    "points = [[1, 3], [-2, 2]]\n",
    "K = 1"
   ]
  },
  {
   "cell_type": "markdown",
   "metadata": {},
   "source": [
    "## 유클리드 거리의 우선순위 큐 순서"
   ]
  },
  {
   "cell_type": "code",
   "execution_count": null,
   "metadata": {},
   "outputs": [],
   "source": [
    "from typing import List\n",
    "import heapq\n",
    "\n",
    "def kClosest(points: List[List[int]], K: int) -> List[List[int]]:\n",
    "    heap = []\n",
    "    for (x, y) in points:\n",
    "        dist = x ** 2 + y ** 2\n",
    "        heapq.heappush(heap, (dist, x, y))\n",
    "        \n",
    "    result = []\n",
    "    for _ in range(K):\n",
    "        (dist, x, y) = heapq.heappop(heap)\n",
    "        result.append((x, y))\n",
    "        \n",
    "    return result\n",
    "\n",
    "kClosest(points, K)"
   ]
  }
 ],
 "metadata": {
  "kernelspec": {
   "display_name": "Python 3",
   "language": "python",
   "name": "python3"
  },
  "language_info": {
   "codemirror_mode": {
    "name": "ipython",
    "version": 3
   },
   "file_extension": ".py",
   "mimetype": "text/x-python",
   "name": "python",
   "nbconvert_exporter": "python",
   "pygments_lexer": "ipython3",
   "version": "3.8.5"
  }
 },
 "nbformat": 4,
 "nbformat_minor": 4
}

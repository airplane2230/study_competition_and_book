{
 "cells": [
  {
   "cell_type": "markdown",
   "metadata": {},
   "source": [
    "## 삽입 정렬"
   ]
  },
  {
   "cell_type": "code",
   "execution_count": null,
   "metadata": {},
   "outputs": [],
   "source": [
    "def insertionSortList(head: ListNode) -> ListNode:\n",
    "    cur = parent = ListNode(0)\n",
    "    \n",
    "    while head:\n",
    "        while cur.next and cur.next.val < head.val:\n",
    "            cur = cur.next\n",
    "            \n",
    "        cur.next, head.next, head = head, cur.next, head.next\n",
    "    \n",
    "    # cur.val이 head.val일때만 처음으로 되돌아가는 장치\n",
    "    if head and cur.val > head.val:\n",
    "        cur = parent\n",
    "    \n",
    "return cur.next "
   ]
  }
 ],
 "metadata": {
  "kernelspec": {
   "display_name": "Python 3",
   "language": "python",
   "name": "python3"
  },
  "language_info": {
   "codemirror_mode": {
    "name": "ipython",
    "version": 3
   },
   "file_extension": ".py",
   "mimetype": "text/x-python",
   "name": "python",
   "nbconvert_exporter": "python",
   "pygments_lexer": "ipython3",
   "version": "3.8.5"
  }
 },
 "nbformat": 4,
 "nbformat_minor": 4
}

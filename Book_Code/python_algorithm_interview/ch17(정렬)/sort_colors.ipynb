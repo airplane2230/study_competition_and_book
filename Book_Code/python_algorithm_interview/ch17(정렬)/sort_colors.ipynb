{
 "cells": [
  {
   "cell_type": "code",
   "execution_count": null,
   "metadata": {},
   "outputs": [],
   "source": [
    "test_case = [2, 0, 2, 1, 1, 0]"
   ]
  },
  {
   "cell_type": "code",
   "execution_count": null,
   "metadata": {},
   "outputs": [],
   "source": []
  },
  {
   "cell_type": "markdown",
   "metadata": {},
   "source": [
    "## 네덜란드 국기 문제를 응용한 풀이"
   ]
  },
  {
   "cell_type": "code",
   "execution_count": null,
   "metadata": {},
   "outputs": [],
   "source": [
    "from typing import List\n",
    "\n",
    "def sortColors(nums: List[int]) -> None:\n",
    "    red, white, blue = 0, 0, len(nums)\n",
    "    \n",
    "    while white < blue:\n",
    "        if nums[white] < 1:\n",
    "            nums[red], nums[white] = nums[white], nums[red]\n",
    "            white += 1\n",
    "            red += 1\n",
    "        elif nums[white] > 1:\n",
    "            blue -= 1\n",
    "            nums[white], nums[blue] = nums[blue], nums[white]\n",
    "        else:\n",
    "            white += 1\n",
    "            \n",
    "sortColors(test_case)\n",
    "print(test_case)"
   ]
  }
 ],
 "metadata": {
  "kernelspec": {
   "display_name": "Python 3",
   "language": "python",
   "name": "python3"
  },
  "language_info": {
   "codemirror_mode": {
    "name": "ipython",
    "version": 3
   },
   "file_extension": ".py",
   "mimetype": "text/x-python",
   "name": "python",
   "nbconvert_exporter": "python",
   "pygments_lexer": "ipython3",
   "version": "3.8.5"
  }
 },
 "nbformat": 4,
 "nbformat_minor": 4
}

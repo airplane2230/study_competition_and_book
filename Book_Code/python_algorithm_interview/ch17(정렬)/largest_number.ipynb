{
 "cells": [
  {
   "cell_type": "code",
   "execution_count": null,
   "metadata": {},
   "outputs": [],
   "source": [
    "from typing import List\n",
    "\n",
    "test_case = [10, 2]"
   ]
  },
  {
   "cell_type": "markdown",
   "metadata": {},
   "source": [
    "## 삽입 정렬"
   ]
  },
  {
   "cell_type": "code",
   "execution_count": null,
   "metadata": {},
   "outputs": [],
   "source": [
    "class Solution:\n",
    "    @staticmethod\n",
    "    def to_swap(n1: int, n2: int) -> bool:\n",
    "        return str(n1) + str(n2) < str(n2) + str(n1)\n",
    "    \n",
    "    def largestNumber(self, nums: List[int]) -> str:\n",
    "        i = 1\n",
    "        while i < len(nums):\n",
    "            j = i\n",
    "            \n",
    "            while j > 0 and self.to_swap(nums[j - 1], nums[j]):\n",
    "                nums[j], nums[j - 1] = nums[j - 1], nums[j]\n",
    "                \n",
    "            i = i + 1\n",
    "            \n",
    "        return str(int(''.join(map(str, nums))))\n",
    "    \n",
    "Solution().largestNumber(test_case)"
   ]
  }
 ],
 "metadata": {
  "kernelspec": {
   "display_name": "Python 3",
   "language": "python",
   "name": "python3"
  },
  "language_info": {
   "codemirror_mode": {
    "name": "ipython",
    "version": 3
   },
   "file_extension": ".py",
   "mimetype": "text/x-python",
   "name": "python",
   "nbconvert_exporter": "python",
   "pygments_lexer": "ipython3",
   "version": "3.8.5"
  }
 },
 "nbformat": 4,
 "nbformat_minor": 4
}

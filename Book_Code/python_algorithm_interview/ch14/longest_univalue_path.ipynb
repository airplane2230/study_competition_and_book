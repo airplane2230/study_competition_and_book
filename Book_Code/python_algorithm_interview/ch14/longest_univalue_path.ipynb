{
 "cells": [
  {
   "cell_type": "code",
   "execution_count": null,
   "metadata": {},
   "outputs": [],
   "source": [
    "class Solution:\n",
    "    result: int = 0\n",
    "        \n",
    "    def longestUnivaluePath(slef, root: TreeNode) -> int:\n",
    "        def dfs(node: TreeNode):\n",
    "            if node is None:\n",
    "                return 0\n",
    "            \n",
    "            # 존재하지 않는 노드까지 DFS 재귀 탐색\n",
    "            left = dfs(node.left)\n",
    "            right = dfs(node.right)\n",
    "            \n",
    "            if node.left and node.left.val == node.val:\n",
    "                left += 1\n",
    "            else:\n",
    "                left = 0\n",
    "            if node.right and node.right.val == node.val:\n",
    "                right += 1\n",
    "            else:\n",
    "                right = 0\n",
    "                \n",
    "            self.result = max(self.result, left + right)\n",
    "            return max(left, right)\n",
    "        \n",
    "    dfs(root)\n",
    "    return self.result"
   ]
  }
 ],
 "metadata": {
  "kernelspec": {
   "display_name": "Python 3",
   "language": "python",
   "name": "python3"
  },
  "language_info": {
   "codemirror_mode": {
    "name": "ipython",
    "version": 3
   },
   "file_extension": ".py",
   "mimetype": "text/x-python",
   "name": "python",
   "nbconvert_exporter": "python",
   "pygments_lexer": "ipython3",
   "version": "3.8.5"
  }
 },
 "nbformat": 4,
 "nbformat_minor": 4
}

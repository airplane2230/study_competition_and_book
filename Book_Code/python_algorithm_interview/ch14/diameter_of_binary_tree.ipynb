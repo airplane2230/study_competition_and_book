{
 "cells": [
  {
   "cell_type": "markdown",
   "metadata": {},
   "source": [
    "## 상태값 누적 트리"
   ]
  },
  {
   "cell_type": "code",
   "execution_count": null,
   "metadata": {},
   "outputs": [],
   "source": [
    "class Solution:\n",
    "    longest: int = 0\n",
    "        \n",
    "    def diameterOfBinaryTree(self, root: TreeNode) -> int:\n",
    "        def dfs(node: TreeNode) -> int:\n",
    "            if not node:\n",
    "                return -1\n",
    "            # 왼쪽, 오른쪽의 각 리프 노드까지 탐색\n",
    "            left = dfs(node.left)\n",
    "            right = dfs(node.right)\n",
    "            \n",
    "            self.longest = max(self.longest, left + right + 2)\n",
    "            return max(left, right) + 1\n",
    "        \n",
    "        dfs(root)\n",
    "        return self.logest"
   ]
  }
 ],
 "metadata": {
  "kernelspec": {
   "display_name": "Python 3",
   "language": "python",
   "name": "python3"
  },
  "language_info": {
   "codemirror_mode": {
    "name": "ipython",
    "version": 3
   },
   "file_extension": ".py",
   "mimetype": "text/x-python",
   "name": "python",
   "nbconvert_exporter": "python",
   "pygments_lexer": "ipython3",
   "version": "3.8.5"
  }
 },
 "nbformat": 4,
 "nbformat_minor": 4
}
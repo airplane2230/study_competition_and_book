{
 "cells": [
  {
   "cell_type": "code",
   "execution_count": null,
   "metadata": {},
   "outputs": [],
   "source": [
    "class Codec:\n",
    "    # 직렬화\n",
    "    def serialize(self, root: TreeNode) -> str:\n",
    "        queue = collections.deque([root])\n",
    "        result = ['#']\n",
    "        \n",
    "        # 트리 BFS 직렬화\n",
    "        while queue:\n",
    "            node = queue.popleft()\n",
    "            if node:\n",
    "                queue.append(node.left)\n",
    "                queue.append(node.right)\n",
    "                \n",
    "                result.append(str(node.val))\n",
    "            else:\n",
    "                result.append('#')\n",
    "        return ' '.join(result)\n",
    "    \n",
    "    # 역직렬화\n",
    "    def deserialize(self, data: str) -> TreeNode:\n",
    "        if data == '# #':\n",
    "            return None\n",
    "        \n",
    "        nodes = data.split()\n",
    "        \n",
    "        root = TreeNode(int(nodes[1]))\n",
    "        queue = collections.deque([root])\n",
    "        index = 2\n",
    "        while queue:\n",
    "            node = queue.popleft()\n",
    "            if node[index] is not '#':\n",
    "                node.left = TreeNode(int(nodes[index]))\n",
    "                queue.append(node.left)\n",
    "            index += 1\n",
    "            \n",
    "            if node[index] is not '#':\n",
    "                node.right = TreeNode(int(nodes[index]))\n",
    "                queue.append(node.right)\n",
    "            index += 1\n",
    "            \n",
    "        return root"
   ]
  }
 ],
 "metadata": {
  "kernelspec": {
   "display_name": "Python 3",
   "language": "python",
   "name": "python3"
  },
  "language_info": {
   "codemirror_mode": {
    "name": "ipython",
    "version": 3
   },
   "file_extension": ".py",
   "mimetype": "text/x-python",
   "name": "python",
   "nbconvert_exporter": "python",
   "pygments_lexer": "ipython3",
   "version": "3.8.5"
  }
 },
 "nbformat": 4,
 "nbformat_minor": 4
}

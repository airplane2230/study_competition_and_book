{
 "cells": [
  {
   "cell_type": "markdown",
   "metadata": {},
   "source": [
    "## push()할 때 큐를 이용해 재정렬"
   ]
  },
  {
   "cell_type": "code",
   "execution_count": null,
   "metadata": {},
   "outputs": [],
   "source": [
    "import collections\n",
    "\n",
    "class MyStack:\n",
    "    def __init__(self):\n",
    "        self.q = collections.deque()\n",
    "        \n",
    "    def push(self, x):\n",
    "        self.q.append(x)\n",
    "        \n",
    "        for _ in range(len(self.q) - 1):\n",
    "            self.q.append(self.q.popleft())\n",
    "            \n",
    "    def pop(self):\n",
    "        return self.q.popleft()\n",
    "    \n",
    "    def top(self):\n",
    "        return self.q[0]\n",
    "    \n",
    "    def empty(self):\n",
    "        return len(self.q) == 0"
   ]
  }
 ],
 "metadata": {
  "kernelspec": {
   "display_name": "Python 3",
   "language": "python",
   "name": "python3"
  },
  "language_info": {
   "codemirror_mode": {
    "name": "ipython",
    "version": 3
   },
   "file_extension": ".py",
   "mimetype": "text/x-python",
   "name": "python",
   "nbconvert_exporter": "python",
   "pygments_lexer": "ipython3",
   "version": "3.8.5"
  }
 },
 "nbformat": 4,
 "nbformat_minor": 4
}

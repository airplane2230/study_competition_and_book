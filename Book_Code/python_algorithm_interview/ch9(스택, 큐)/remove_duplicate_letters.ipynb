{
 "cells": [
  {
   "cell_type": "code",
   "execution_count": null,
   "metadata": {},
   "outputs": [],
   "source": [
    "import collections\n",
    "\n",
    "test_case = 'bcabc'"
   ]
  },
  {
   "cell_type": "markdown",
   "metadata": {},
   "source": [
    "## 재귀를 이용한 분리"
   ]
  },
  {
   "cell_type": "code",
   "execution_count": null,
   "metadata": {},
   "outputs": [],
   "source": [
    "def removeDuplicateLetters(s: str) -> str:\n",
    "    for char in sorted(set(s)):\n",
    "        suffix = s[s.index(char):]\n",
    "        \n",
    "        if set(s) == set(suffix):\n",
    "            return char + removeDuplicateLetters(suffix.replace(char, ''))\n",
    "    return ''\n",
    "\n",
    "removeDuplicateLetters(test_case)"
   ]
  },
  {
   "cell_type": "markdown",
   "metadata": {},
   "source": [
    "## 스택을 이용한 문자 제거"
   ]
  },
  {
   "cell_type": "code",
   "execution_count": null,
   "metadata": {},
   "outputs": [],
   "source": [
    "def removeDuplicateLetters(s: str) -> str:\n",
    "    counter, seen, stack = collections.Counter(s), set(), []\n",
    "    \n",
    "    for char in s:\n",
    "        counter[char] -= 1\n",
    "        if char in seen:\n",
    "            continue\n",
    "            \n",
    "        while stack and char < stack[-1] and counter[stack[-1]] > 0:\n",
    "            seen.remove(stack.pop())\n",
    "            \n",
    "        stack.append(char)\n",
    "        seen.add(char)\n",
    "        \n",
    "    return ''.join(stack)\n",
    "\n",
    "removeDuplicateLetters(test_case)"
   ]
  }
 ],
 "metadata": {
  "kernelspec": {
   "display_name": "Python 3",
   "language": "python",
   "name": "python3"
  },
  "language_info": {
   "codemirror_mode": {
    "name": "ipython",
    "version": 3
   },
   "file_extension": ".py",
   "mimetype": "text/x-python",
   "name": "python",
   "nbconvert_exporter": "python",
   "pygments_lexer": "ipython3",
   "version": "3.8.5"
  }
 },
 "nbformat": 4,
 "nbformat_minor": 4
}

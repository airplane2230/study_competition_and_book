{
 "cells": [
  {
   "cell_type": "code",
   "execution_count": null,
   "metadata": {},
   "outputs": [],
   "source": [
    "times = [[2, 1, 1], [2, 3, 1], [3, 4, 1]]\n",
    "N = 4\n",
    "K = 2"
   ]
  },
  {
   "cell_type": "markdown",
   "metadata": {},
   "source": [
    "## 다익스트라 알고리즘 구현"
   ]
  },
  {
   "cell_type": "code",
   "execution_count": null,
   "metadata": {},
   "outputs": [],
   "source": [
    "from typing import List\n",
    "import collections\n",
    "import heapq\n",
    "\n",
    "def networkDelayTime(times: List[List[int]], N: int, K:int) -> int:\n",
    "    graph = collections.defaultdict(list)\n",
    "    # u: 출발지, v: 도착지, w: 소요시간\n",
    "    for u, v, w in times:\n",
    "        graph[u].append((v, w))\n",
    "        \n",
    "    # 큐 변수: [(소요시간, 정점)]\n",
    "    Q = [(0, K)]\n",
    "    dist = collections.defaultdict(int)\n",
    "    \n",
    "    # 우선순위 큐 최솟값 기준으로 정점까지 최단 경로 삽입\n",
    "    while Q:\n",
    "        time, node = heapq.heappop(Q)\n",
    "        if node not in dist:\n",
    "            dist[node] = time\n",
    "            for v, w in graph[node]:\n",
    "                alt = time + w\n",
    "                heapq.heappush(Q, (alt, v))\n",
    "                \n",
    "    # 모든 노드의 최단 경로 존재 여부 판별\n",
    "    if len(dist) == N:\n",
    "        return max(dist.values())\n",
    "    return -1\n",
    "\n",
    "networkDelayTime(times = times, N = N, K = K)"
   ]
  }
 ],
 "metadata": {
  "kernelspec": {
   "display_name": "Python 3",
   "language": "python",
   "name": "python3"
  },
  "language_info": {
   "codemirror_mode": {
    "name": "ipython",
    "version": 3
   },
   "file_extension": ".py",
   "mimetype": "text/x-python",
   "name": "python",
   "nbconvert_exporter": "python",
   "pygments_lexer": "ipython3",
   "version": "3.8.5"
  }
 },
 "nbformat": 4,
 "nbformat_minor": 4
}

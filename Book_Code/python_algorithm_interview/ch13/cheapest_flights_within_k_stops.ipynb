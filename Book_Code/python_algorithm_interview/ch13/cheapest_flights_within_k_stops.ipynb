{
 "cells": [
  {
   "cell_type": "code",
   "execution_count": null,
   "metadata": {},
   "outputs": [],
   "source": [
    "n = 3\n",
    "edges = [[0, 1, 100], [1, 2, 100], [0, 2, 500]]\n",
    "src = 0\n",
    "dst = 2\n",
    "K = 0"
   ]
  },
  {
   "cell_type": "markdown",
   "metadata": {},
   "source": [
    "## 다익스트라 알고리즘 응용"
   ]
  },
  {
   "cell_type": "code",
   "execution_count": null,
   "metadata": {},
   "outputs": [],
   "source": [
    "from typing import List\n",
    "import collections\n",
    "import heapq\n",
    "\n",
    "def findCheapestPrice(n: int, flights: List[List[int]], src: int, dst: int,\n",
    "                     K: int) -> int:\n",
    "    graph = collections.defaultdict(list)\n",
    "    # 그래프 인접 리스트 구성\n",
    "    for u, v, w in flights:\n",
    "        graph[u].append((v, w))\n",
    "        \n",
    "    # 큐 변수: [(가격, 정점, 남은 가능 경유지 수)]\n",
    "    Q = [(0, src, K)]\n",
    "    \n",
    "    while Q:\n",
    "        price, node, k = heapq.heappop(Q)\n",
    "        if node == dst:\n",
    "            return price\n",
    "        if k >= 0:\n",
    "            for v, w in graph[node]:\n",
    "                alt = price + w\n",
    "                heapq.heappush(Q, (alt, v, k - 1))\n",
    "                \n",
    "    return -1\n",
    "\n",
    "findCheapestPrice(n = n, flights = edges, src = src, dst = dst, K = K)"
   ]
  }
 ],
 "metadata": {
  "kernelspec": {
   "display_name": "Python 3",
   "language": "python",
   "name": "python3"
  },
  "language_info": {
   "codemirror_mode": {
    "name": "ipython",
    "version": 3
   },
   "file_extension": ".py",
   "mimetype": "text/x-python",
   "name": "python",
   "nbconvert_exporter": "python",
   "pygments_lexer": "ipython3",
   "version": "3.8.5"
  }
 },
 "nbformat": 4,
 "nbformat_minor": 4
}

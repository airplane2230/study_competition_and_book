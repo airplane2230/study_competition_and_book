{
 "cells": [
  {
   "cell_type": "code",
   "execution_count": null,
   "metadata": {},
   "outputs": [],
   "source": [
    "num = [1, 3, -1, -3, 5, 3, 6, 7]\n",
    "k = 3"
   ]
  },
  {
   "cell_type": "markdown",
   "metadata": {},
   "source": [
    "## 브루트 포스로 계산"
   ]
  },
  {
   "cell_type": "code",
   "execution_count": null,
   "metadata": {},
   "outputs": [],
   "source": [
    "from typing import List\n",
    "\n",
    "def maxSlidingWindow(nums: List[int], k: int) -> List[int]:\n",
    "    if not nums:\n",
    "        return nums\n",
    "    \n",
    "    r = []\n",
    "    for i in range(len(nums) - k + 1):\n",
    "        r.append(max(nums[i:i+k]))\n",
    "        \n",
    "    return r\n",
    "\n",
    "maxSlidingWindow(num, k)"
   ]
  },
  {
   "cell_type": "markdown",
   "metadata": {},
   "source": [
    "## 큐를 이용한 최적화"
   ]
  },
  {
   "cell_type": "code",
   "execution_count": null,
   "metadata": {},
   "outputs": [],
   "source": [
    "import collections\n",
    "\n",
    "def maxSlidingWindow(nums: List[int], k: int) -> List[int]:\n",
    "    results = []\n",
    "    window = collections.deque()\n",
    "    current_max = float('-inf')\n",
    "    for i, v in enumerate(nums):\n",
    "        window.append(v)\n",
    "        print(window)\n",
    "        if i < k - 1:\n",
    "            continue\n",
    "            \n",
    "        if current_max == float('-inf'):\n",
    "            current_max = max(window)\n",
    "        elif v > current_max:\n",
    "            current_max = v\n",
    "            \n",
    "        results.append(current_max)\n",
    "            \n",
    "            \n",
    "        if current_max == window.popleft():\n",
    "            current_max = float('-inf')\n",
    "            \n",
    "    return results\n",
    "\n",
    "maxSlidingWindow(num, k)"
   ]
  }
 ],
 "metadata": {
  "kernelspec": {
   "display_name": "Python 3",
   "language": "python",
   "name": "python3"
  },
  "language_info": {
   "codemirror_mode": {
    "name": "ipython",
    "version": 3
   },
   "file_extension": ".py",
   "mimetype": "text/x-python",
   "name": "python",
   "nbconvert_exporter": "python",
   "pygments_lexer": "ipython3",
   "version": "3.8.5"
  }
 },
 "nbformat": 4,
 "nbformat_minor": 4
}

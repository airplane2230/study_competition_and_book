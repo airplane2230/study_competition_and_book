{
 "cells": [
  {
   "cell_type": "code",
   "execution_count": null,
   "metadata": {},
   "outputs": [],
   "source": [
    "S = 'AD0BEC0DEBANC'\n",
    "T = 'ABC'"
   ]
  },
  {
   "cell_type": "markdown",
   "metadata": {},
   "source": [
    "## 모든 윈도우 크기를 브루트 포스로 탐색"
   ]
  },
  {
   "cell_type": "code",
   "execution_count": null,
   "metadata": {},
   "outputs": [],
   "source": [
    "from typing import List\n",
    "\n",
    "def minWindow(s: str, t: str) -> str:\n",
    "    def contains(s_substr_lst: List, t_lst:List):\n",
    "        for t_elem in t_lst:\n",
    "            if t_elem in s_substr_lst:\n",
    "                s_substr_lst.remove(t_elem)\n",
    "            else:\n",
    "                return False\n",
    "        return True\n",
    "    \n",
    "    if not s or not t:\n",
    "        return ''\n",
    "    \n",
    "    window_size = len(t)\n",
    "    \n",
    "    for size in range(window_size, len(s) + 1):\n",
    "        for left in range(len(s) - size + 1):\n",
    "            s_substr = s[left: left + size]\n",
    "            if contains(list(s_substr), list(t)):\n",
    "                return s_substr\n",
    "            \n",
    "    return ''\n",
    "\n",
    "minWindow(S, T)"
   ]
  },
  {
   "cell_type": "markdown",
   "metadata": {},
   "source": [
    "## 투 포인터, 슬라이딩 윈도우로 최적화"
   ]
  },
  {
   "cell_type": "code",
   "execution_count": null,
   "metadata": {},
   "outputs": [],
   "source": [
    "import collections\n",
    "\n",
    "def minWindow(s: str, t: str) -> str:\n",
    "    need = collections.Counter(t)\n",
    "    missing = len(t)\n",
    "    left = start = end = 0\n",
    "    \n",
    "    # 오른쪽 포인터 이동\n",
    "    for right, char in enumerate(s, 1):\n",
    "        missing -= need[char] > 0\n",
    "        need[char] -= 1\n",
    "        \n",
    "        # 필요 문자가 0이면 왼쪽 포인터 이동 판단\n",
    "        if missing == 0:\n",
    "            while left < right and need[s[left]] < 0:\n",
    "                need[s[left]] += 1\n",
    "                left += 1\n",
    "                \n",
    "            if not end or right - left <= end - start:\n",
    "                start, end = left, right\n",
    "                need[s[left]] += 1\n",
    "                missing += 1\n",
    "                left += 1\n",
    "                \n",
    "    return s[start:end]\n",
    "\n",
    "minWindow(S, T)"
   ]
  },
  {
   "cell_type": "markdown",
   "metadata": {},
   "source": [
    "## Counter로 좀 더 편리한 풀이"
   ]
  },
  {
   "cell_type": "code",
   "execution_count": null,
   "metadata": {},
   "outputs": [],
   "source": [
    "def minWindow(s: str, t: str) -> str:\n",
    "    t_count = collections.Counter(t)\n",
    "    current_count = collections.Counter()\n",
    "    \n",
    "    start = float('-inf')\n",
    "    end = float('-inf')\n",
    "    \n",
    "    left = 0\n",
    "    for right, char in enumerate(s, 1):\n",
    "        current_count[char] += 1\n",
    "        \n",
    "        while current_count & t_count == t_count:\n",
    "            if right - left < end - start:\n",
    "                start, end = left, right\n",
    "                \n",
    "            current_count[s[left]] -= 1\n",
    "            left += 1\n",
    "            \n",
    "    return s[start: end] if end - start <= len(s) else ''"
   ]
  }
 ],
 "metadata": {
  "kernelspec": {
   "display_name": "Python 3",
   "language": "python",
   "name": "python3"
  },
  "language_info": {
   "codemirror_mode": {
    "name": "ipython",
    "version": 3
   },
   "file_extension": ".py",
   "mimetype": "text/x-python",
   "name": "python",
   "nbconvert_exporter": "python",
   "pygments_lexer": "ipython3",
   "version": "3.8.5"
  }
 },
 "nbformat": 4,
 "nbformat_minor": 4
}

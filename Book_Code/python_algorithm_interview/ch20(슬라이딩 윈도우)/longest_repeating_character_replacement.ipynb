{
 "cells": [
  {
   "cell_type": "code",
   "execution_count": null,
   "metadata": {},
   "outputs": [],
   "source": [
    "s = 'AAABBC'\n",
    "k = 2"
   ]
  },
  {
   "cell_type": "markdown",
   "metadata": {},
   "source": [
    "## 투 포인터, 슬라이딩 윈도우, Counter 를 모두 이용"
   ]
  },
  {
   "cell_type": "code",
   "execution_count": null,
   "metadata": {},
   "outputs": [],
   "source": [
    "import collections\n",
    "\n",
    "def characterReplacement(s: str, k: int) -> int:\n",
    "    left = right = 0\n",
    "    counts = collections.Counter()\n",
    "    \n",
    "    for right in range(1, len(s) + 1):\n",
    "        # 오른쪽 포인터가 이동하면서, 지나친 문자를 counts에 더해줌\n",
    "        counts[s[right - 1]] += 1\n",
    "        \n",
    "        # 가장 흔하게 등장하는 문자 탐색\n",
    "        max_char_n = counts.most_common(1)[0][1]\n",
    "        \n",
    "        # 최대 변경 횟수보다 큰 경우 left 포인터를 움직여주고,\n",
    "        # left 포인터가 있던 자리의 문자는 -1 해줌\n",
    "        if right - left - max_char_n > k:\n",
    "            counts[s[left]] -= 1\n",
    "            left += 1\n",
    "            \n",
    "    return right - left\n",
    "\n",
    "characterReplacement(s, k)"
   ]
  }
 ],
 "metadata": {
  "kernelspec": {
   "display_name": "Python 3",
   "language": "python",
   "name": "python3"
  },
  "language_info": {
   "codemirror_mode": {
    "name": "ipython",
    "version": 3
   },
   "file_extension": ".py",
   "mimetype": "text/x-python",
   "name": "python",
   "nbconvert_exporter": "python",
   "pygments_lexer": "ipython3",
   "version": "3.8.5"
  }
 },
 "nbformat": 4,
 "nbformat_minor": 4
}

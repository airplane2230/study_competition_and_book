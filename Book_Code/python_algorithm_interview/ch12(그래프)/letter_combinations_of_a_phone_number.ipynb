{
 "cells": [
  {
   "cell_type": "code",
   "execution_count": null,
   "metadata": {},
   "outputs": [],
   "source": [
    "from typing import List\n",
    "\n",
    "digits = '23'"
   ]
  },
  {
   "cell_type": "markdown",
   "metadata": {},
   "source": [
    "## 모든 조합 탐색"
   ]
  },
  {
   "cell_type": "code",
   "execution_count": null,
   "metadata": {},
   "outputs": [],
   "source": [
    "def letterCombinations(digits: str) -> List[str]:\n",
    "    def dfs(index, path):\n",
    "        # 끝까지 탐색하면 백트래킹\n",
    "        if len(path) == len(digits):\n",
    "            result.append(path)\n",
    "            return\n",
    "        \n",
    "        # 입력값 자릿수 단위 반복\n",
    "        for i in range(index, len(digits)):\n",
    "            # 숫자에 해당하는 모든 문자열 반복\n",
    "            # 길이를 늘려나가면서 path에 추가 문자열을 더해주고,\n",
    "            # 0 -> digits[0]:2 -> dic['2']: 'abc' -> a -> dfs(1, 'a') -> 1 -> \n",
    "            # digits[1]: 3 -> dic['3']: 'def' -> 'd' -> dfs(2, 'ad') -> result.append('ad')   \n",
    "            for j in dic[digits[i]]:\n",
    "                dfs(i + 1, path + j)\n",
    "                \n",
    "    if not digits:\n",
    "        return []\n",
    "    \n",
    "    dic = {'2': 'abc', '3': 'def', '4':'ghi', '5':'jkl',\n",
    "          '6':'mno', '7':'pqrs', '8':'tuv', '9':'wxyz'}\n",
    "    result = []\n",
    "    dfs(0, \"\")\n",
    "    \n",
    "    return result\n",
    "\n",
    "letterCombinations(digits)"
   ]
  }
 ],
 "metadata": {
  "kernelspec": {
   "display_name": "Python 3",
   "language": "python",
   "name": "python3"
  },
  "language_info": {
   "codemirror_mode": {
    "name": "ipython",
    "version": 3
   },
   "file_extension": ".py",
   "mimetype": "text/x-python",
   "name": "python",
   "nbconvert_exporter": "python",
   "pygments_lexer": "ipython3",
   "version": "3.8.5"
  }
 },
 "nbformat": 4,
 "nbformat_minor": 4
}

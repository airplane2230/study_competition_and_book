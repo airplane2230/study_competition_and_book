{
 "cells": [
  {
   "cell_type": "code",
   "execution_count": null,
   "metadata": {},
   "outputs": [],
   "source": [
    "from typing import List\n",
    "\n",
    "test_case = [[0, 1], [0, 2], [1, 2]]"
   ]
  },
  {
   "cell_type": "markdown",
   "metadata": {},
   "source": [
    "## DFS로 순환 구조 판별"
   ]
  },
  {
   "cell_type": "code",
   "execution_count": null,
   "metadata": {},
   "outputs": [],
   "source": [
    "import collections\n",
    "\n",
    "def canFinish(prerequisites: List[List[int]]) -> bool:\n",
    "    graph = collections.defaultdict(list)\n",
    "    for x, y in prerequisites:\n",
    "        graph[x].append(y)\n",
    "\n",
    "    traced = set()\n",
    "    \n",
    "    def dfs(i):\n",
    "        if i in traced:\n",
    "            return False\n",
    "        \n",
    "        traced.add(i)\n",
    "        for y in graph[i]:\n",
    "            if not dfs(y):\n",
    "                return False\n",
    "        traced.remove(i)\n",
    "        \n",
    "        return True\n",
    "\n",
    "    for x in list(graph):\n",
    "        if not dfs(x):\n",
    "            return False\n",
    "        \n",
    "    return True\n",
    "\n",
    "canFinish(test_case)"
   ]
  },
  {
   "cell_type": "markdown",
   "metadata": {},
   "source": [
    "## 가지치기를 이용한 최적화"
   ]
  },
  {
   "cell_type": "code",
   "execution_count": null,
   "metadata": {},
   "outputs": [],
   "source": [
    "import collections\n",
    "\n",
    "def canFinish(prerequisites: List[List[int]]) -> bool:\n",
    "    graph = collections.defaultdict(list)\n",
    "    for x, y in prerequisites:\n",
    "        graph[x].append(y)\n",
    "\n",
    "    traced = set()\n",
    "    visited = set()\n",
    "    \n",
    "    def dfs(i):\n",
    "        if i in traced:\n",
    "            return False\n",
    "        if i in visited:\n",
    "            return True\n",
    "        \n",
    "        traced.add(i)\n",
    "        for y in graph[i]:\n",
    "            if not dfs(y):\n",
    "                return False\n",
    "        traced.remove(i)\n",
    "        visited.add(i)\n",
    "        \n",
    "        return True\n",
    "\n",
    "    for x in list(graph):\n",
    "        if not dfs(x):\n",
    "            return False\n",
    "        \n",
    "    return True\n",
    "\n",
    "canFinish(test_case)"
   ]
  }
 ],
 "metadata": {
  "kernelspec": {
   "display_name": "Python 3",
   "language": "python",
   "name": "python3"
  },
  "language_info": {
   "codemirror_mode": {
    "name": "ipython",
    "version": 3
   },
   "file_extension": ".py",
   "mimetype": "text/x-python",
   "name": "python",
   "nbconvert_exporter": "python",
   "pygments_lexer": "ipython3",
   "version": "3.8.5"
  }
 },
 "nbformat": 4,
 "nbformat_minor": 4
}

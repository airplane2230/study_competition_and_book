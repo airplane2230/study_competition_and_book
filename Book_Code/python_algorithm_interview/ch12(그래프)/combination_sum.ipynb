{
 "cells": [
  {
   "cell_type": "code",
   "execution_count": null,
   "metadata": {},
   "outputs": [],
   "source": [
    "from typing import List\n",
    "\n",
    "candidates = [2, 3, 6, 7]\n",
    "target = 7"
   ]
  },
  {
   "cell_type": "markdown",
   "metadata": {},
   "source": [
    "## DFS로 중복 조합 그래프 탐색"
   ]
  },
  {
   "cell_type": "code",
   "execution_count": null,
   "metadata": {},
   "outputs": [],
   "source": [
    "def combinationSum(candidates: List[int], target: int) -> List[List[int]]:\n",
    "    result = []\n",
    "    \n",
    "    def dfs(csum, index, path):\n",
    "        if csum < 0:\n",
    "            return\n",
    "        if csum == 0:\n",
    "            result.append(path)\n",
    "            return\n",
    "        \n",
    "        # 자신부터 하위 원소까지의 나열 재귀 호출\n",
    "        for i in range(index, len(candidates)):\n",
    "            dfs(csum - candidates[i], i, path + [candidates[i]])\n",
    "            \n",
    "    dfs(target, 0, [])\n",
    "    \n",
    "    return result\n",
    "\n",
    "combinationSum(candidates, target)"
   ]
  }
 ],
 "metadata": {
  "kernelspec": {
   "display_name": "Python 3",
   "language": "python",
   "name": "python3"
  },
  "language_info": {
   "codemirror_mode": {
    "name": "ipython",
    "version": 3
   },
   "file_extension": ".py",
   "mimetype": "text/x-python",
   "name": "python",
   "nbconvert_exporter": "python",
   "pygments_lexer": "ipython3",
   "version": "3.8.5"
  }
 },
 "nbformat": 4,
 "nbformat_minor": 4
}

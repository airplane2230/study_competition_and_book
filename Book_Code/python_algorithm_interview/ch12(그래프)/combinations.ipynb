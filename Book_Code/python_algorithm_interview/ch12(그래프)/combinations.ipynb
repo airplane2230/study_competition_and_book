{
 "cells": [
  {
   "cell_type": "code",
   "execution_count": null,
   "metadata": {},
   "outputs": [],
   "source": [
    "from typing import List\n",
    "\n",
    "n = 4\n",
    "k = 2"
   ]
  },
  {
   "cell_type": "markdown",
   "metadata": {},
   "source": [
    "## DFS로 k개 조합 생성"
   ]
  },
  {
   "cell_type": "code",
   "execution_count": null,
   "metadata": {},
   "outputs": [],
   "source": [
    "def combine(n: int, k: int) -> List[List[int]]:\n",
    "    results = []\n",
    "    \n",
    "    def dfs(elements, start: int, k: int):\n",
    "        if k == 0:\n",
    "            results.append(elements[:])\n",
    "            return\n",
    "        \n",
    "        # 자신 이전의 모든 값을 고정하여 재귀 호출\n",
    "        for i in range(start, n + 1):\n",
    "            elements.append(i)\n",
    "            dfs(elements, i + 1, k - 1)\n",
    "            elements.pop()\n",
    "            \n",
    "    dfs([], 1, k)\n",
    "    return results\n",
    "\n",
    "combine(n = 4, k = 2)"
   ]
  },
  {
   "cell_type": "markdown",
   "metadata": {},
   "source": [
    "## itertools 모듈 사용"
   ]
  },
  {
   "cell_type": "code",
   "execution_count": null,
   "metadata": {},
   "outputs": [],
   "source": [
    "import itertools\n",
    "\n",
    "def combine(n: int, k: int) -> List[List[int]]:\n",
    "    return list(itertools.combinations(range(1, n + 1), k))\n",
    "\n",
    "combine(n = 4, k = 2)"
   ]
  }
 ],
 "metadata": {
  "kernelspec": {
   "display_name": "Python 3",
   "language": "python",
   "name": "python3"
  },
  "language_info": {
   "codemirror_mode": {
    "name": "ipython",
    "version": 3
   },
   "file_extension": ".py",
   "mimetype": "text/x-python",
   "name": "python",
   "nbconvert_exporter": "python",
   "pygments_lexer": "ipython3",
   "version": "3.8.5"
  }
 },
 "nbformat": 4,
 "nbformat_minor": 4
}

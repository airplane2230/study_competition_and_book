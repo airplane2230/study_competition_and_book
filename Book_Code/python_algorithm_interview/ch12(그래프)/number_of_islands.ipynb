{
 "cells": [
  {
   "cell_type": "code",
   "execution_count": null,
   "metadata": {},
   "outputs": [],
   "source": [
    "from typing import List\n",
    "\n",
    "test_case = [\n",
    "    [1, 1, 1, 1, 0],\n",
    "    [1, 1, 0, 1, 0],\n",
    "    [1, 1, 0, 0, 0],\n",
    "    [0, 0, 0, 0, 0],\n",
    "]"
   ]
  },
  {
   "cell_type": "markdown",
   "metadata": {},
   "source": [
    "## DFS로 그래프 탐색"
   ]
  },
  {
   "cell_type": "code",
   "execution_count": null,
   "metadata": {},
   "outputs": [],
   "source": [
    "def numIslands(grid: List[List[str]]) -> int:\n",
    "    def dfs(i, j):\n",
    "        # 더 이상 땅이 아닌 경우 종료\n",
    "        # 다른 땅을 탐색하기 위해 아래 이중 포문으로 다시 돌아간다\n",
    "        if i < 0 or i >= len(grid) or j < 0 or j >= len(grid[0]) or grid[i][j] != 1:\n",
    "            return\n",
    "        \n",
    "        grid[i][j] = 0\n",
    "        # 동서남북을 탐색하면서 탐색한 곳은 0으로 바꾼다\n",
    "        dfs(i + 1, j)\n",
    "        dfs(i - 1, j)\n",
    "        dfs(i, j + 1)\n",
    "        dfs(i, j - 1)\n",
    "        \n",
    "    count = 0\n",
    "    for i in range(len(grid)):\n",
    "        for j in range(len(grid[0])):\n",
    "            if grid[i][j] == 1:\n",
    "                dfs(i, j)\n",
    "                # 모든 육지 탐색 후 카운트 1 증가\n",
    "                count += 1\n",
    "    \n",
    "    return count\n",
    "\n",
    "numIslands(test_case)"
   ]
  }
 ],
 "metadata": {
  "kernelspec": {
   "display_name": "Python 3",
   "language": "python",
   "name": "python3"
  },
  "language_info": {
   "codemirror_mode": {
    "name": "ipython",
    "version": 3
   },
   "file_extension": ".py",
   "mimetype": "text/x-python",
   "name": "python",
   "nbconvert_exporter": "python",
   "pygments_lexer": "ipython3",
   "version": "3.8.5"
  }
 },
 "nbformat": 4,
 "nbformat_minor": 4
}

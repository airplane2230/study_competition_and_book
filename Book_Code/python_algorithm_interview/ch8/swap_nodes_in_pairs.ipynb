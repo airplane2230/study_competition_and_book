{
 "cells": [
  {
   "cell_type": "markdown",
   "metadata": {},
   "source": [
    "input: 1 -> 2 -> 3 -> 4\n",
    "    \n",
    "output: 2 -> 1 -> 4 -> 3"
   ]
  },
  {
   "cell_type": "markdown",
   "metadata": {},
   "source": [
    "## 값만 교환"
   ]
  },
  {
   "cell_type": "code",
   "execution_count": null,
   "metadata": {},
   "outputs": [],
   "source": [
    "def swapPairs(head: ListNode) -> ListNode:\n",
    "    cur = head\n",
    "    \n",
    "    while cur and cur.next:\n",
    "        cur.val, cur.next.val = cur.next.val, cur.val\n",
    "        cur = cur.next.next\n",
    "        \n",
    "    return head"
   ]
  },
  {
   "cell_type": "markdown",
   "metadata": {},
   "source": [
    "## 반복구조로 스왑"
   ]
  },
  {
   "cell_type": "code",
   "execution_count": null,
   "metadata": {},
   "outputs": [],
   "source": [
    "def swapPairs(head: ListNode) -> ListNode:\n",
    "    root = prev = ListNode(None)\n",
    "    prev.next = head\n",
    "    \n",
    "    while head and head.next:\n",
    "        # b가 a(head)를 가리키도록 할당\n",
    "        b = head.next\n",
    "        head.next = b.next\n",
    "        b.next = head\n",
    "        \n",
    "        # prev가 b를 가리키도록 할당\n",
    "        prev.next = b\n",
    "        \n",
    "        # 다음번 비교를 위해 이동\n",
    "        head = head.next\n",
    "        prev = prev.next.next\n",
    "        \n",
    "    return root.next"
   ]
  },
  {
   "cell_type": "markdown",
   "metadata": {},
   "source": [
    "## 재귀 구조로 스왑"
   ]
  },
  {
   "cell_type": "code",
   "execution_count": null,
   "metadata": {},
   "outputs": [],
   "source": [
    "def swapPairs(head: ListNode) -> ListNode:\n",
    "    if head and head.next:\n",
    "        p = head.next\n",
    "        \n",
    "        # 스왑된 값 리턴 받음\n",
    "        head.next = swapPairs(p.next)\n",
    "        p.next = head\n",
    "        \n",
    "        return p\n",
    "    \n",
    "    return head"
   ]
  }
 ],
 "metadata": {
  "kernelspec": {
   "display_name": "Python 3",
   "language": "python",
   "name": "python3"
  },
  "language_info": {
   "codemirror_mode": {
    "name": "ipython",
    "version": 3
   },
   "file_extension": ".py",
   "mimetype": "text/x-python",
   "name": "python",
   "nbconvert_exporter": "python",
   "pygments_lexer": "ipython3",
   "version": "3.8.5"
  }
 },
 "nbformat": 4,
 "nbformat_minor": 4
}

{
 "cells": [
  {
   "cell_type": "code",
   "execution_count": null,
   "metadata": {},
   "outputs": [],
   "source": [
    "test_case = [['MUC', 'LHR'], ['JFK', 'MUC'], ['SFO', 'SJC'], ['LHR', 'SFO']]"
   ]
  },
  {
   "cell_type": "markdown",
   "metadata": {},
   "source": [
    "## DFS로 일정 그래프 구성"
   ]
  },
  {
   "cell_type": "code",
   "execution_count": null,
   "metadata": {},
   "outputs": [],
   "source": [
    "from typing import List\n",
    "import collections\n",
    "\n",
    "def findItinerary(tickets: List[List[str]]) -> List[str]:\n",
    "    graph = collections.defaultdict(list)\n",
    "    for a, b in sorted(tickets):\n",
    "        graph[a].append(b)\n",
    "        \n",
    "    route = []\n",
    "    def dfs(a):\n",
    "        while graph[a]:\n",
    "            dfs(graph[a].pop(0))\n",
    "        route.append(a)\n",
    "    \n",
    "    dfs('JFK')\n",
    "    return route[::-1]\n",
    "\n",
    "findItinerary(test_case)"
   ]
  },
  {
   "cell_type": "markdown",
   "metadata": {},
   "source": [
    "## 스택 연산으로 큐 연산 최적화 시도"
   ]
  },
  {
   "cell_type": "code",
   "execution_count": null,
   "metadata": {},
   "outputs": [],
   "source": [
    "def findItinerary(tickets: List[List[str]]) -> List[str]:\n",
    "    graph = collections.defaultdict(list)\n",
    "    for a, b in sorted(tickets, reverse = True):\n",
    "        graph[a].append(b)\n",
    "        \n",
    "    route = []\n",
    "    def dfs(a):\n",
    "        while graph[a]:\n",
    "            dfs(graph[a].pop())\n",
    "        route.append(a)\n",
    "    \n",
    "    dfs('JFK')\n",
    "    return route[::-1]\n",
    "\n",
    "findItinerary(test_case)"
   ]
  },
  {
   "cell_type": "markdown",
   "metadata": {},
   "source": [
    "## 일정 그래프 반복"
   ]
  },
  {
   "cell_type": "code",
   "execution_count": null,
   "metadata": {},
   "outputs": [],
   "source": [
    "def findItinerary(tickets: List[List[str]]) -> List[str]:\n",
    "    graph = collections.defaultdict(list)\n",
    "    for a, b in sorted(tickets):\n",
    "        graph[a].append(b)\n",
    "\n",
    "    route, stack = [], ['JFK']\n",
    "    while stack:\n",
    "        # 반복으로 스택을 구성하되 막히는 부분에서 풀어내는 처리\n",
    "        while graph[stack[-1]]:\n",
    "            stack.append(graph[stack[-1]].pop(0))\n",
    "        route.append(stack.pop())\n",
    "        \n",
    "    return route[::-1]\n",
    "\n",
    "test_case = [['JFK', 'KUL'], ['JFK', 'NRT'], ['NRT', 'JFK']]\n",
    "findItinerary(test_case)"
   ]
  }
 ],
 "metadata": {
  "kernelspec": {
   "display_name": "Python 3",
   "language": "python",
   "name": "python3"
  },
  "language_info": {
   "codemirror_mode": {
    "name": "ipython",
    "version": 3
   },
   "file_extension": ".py",
   "mimetype": "text/x-python",
   "name": "python",
   "nbconvert_exporter": "python",
   "pygments_lexer": "ipython3",
   "version": "3.8.5"
  }
 },
 "nbformat": 4,
 "nbformat_minor": 4
}

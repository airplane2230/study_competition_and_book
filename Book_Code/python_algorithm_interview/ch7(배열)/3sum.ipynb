{
 "cells": [
  {
   "cell_type": "code",
   "execution_count": null,
   "metadata": {},
   "outputs": [],
   "source": [
    "from typing import List"
   ]
  },
  {
   "cell_type": "code",
   "execution_count": null,
   "metadata": {},
   "outputs": [],
   "source": [
    "nums = [-1, 0, 1, 2, -1, -4]"
   ]
  },
  {
   "cell_type": "markdown",
   "metadata": {},
   "source": [
    "## 브루트 포스로 계산"
   ]
  },
  {
   "cell_type": "code",
   "execution_count": null,
   "metadata": {},
   "outputs": [],
   "source": [
    "def threeSum(nums: List[int]) -> List[List[int]]:\n",
    "    results = []\n",
    "    nums.sort()\n",
    "    \n",
    "    for i in range(len(nums) - 2):\n",
    "        if i > 0 and nums[i] == nums[i - 1]:\n",
    "            continue\n",
    "            \n",
    "        for j in range(i + 1, len(nums) - 1):\n",
    "            if j > i + 1 and nums[j] == nums[j - 1]:\n",
    "                continue\n",
    "            \n",
    "            for k in range(j + 1, len(nums)):\n",
    "                if k > j + 1 and nums[k] == nums[k - 1]:\n",
    "                    continue\n",
    "                if nums[i] + nums[j] + nums[k] == 0:\n",
    "                    results.append([nums[i], nums[j], nums[k]])\n",
    "    return results\n",
    "\n",
    "threeSum(nums)"
   ]
  },
  {
   "cell_type": "markdown",
   "metadata": {},
   "source": [
    "## 투 포인터로 합 계산"
   ]
  },
  {
   "cell_type": "code",
   "execution_count": null,
   "metadata": {},
   "outputs": [],
   "source": [
    "def threeSum(nums: List[int]) -> List[List[int]]:\n",
    "    results = []\n",
    "    nums.sort()\n",
    "    \n",
    "    for i in range(len(nums) - 2):\n",
    "        if i > 0 and nums[i] == nums[i - 1]:\n",
    "            continue\n",
    "            \n",
    "        left, right = i + 1, len(nums) - 1\n",
    "        while left < right:\n",
    "            sum = nums[i] + nums[left] + nums[right]\n",
    "            \n",
    "            if sum < 0:\n",
    "                left += 1\n",
    "            elif sum > 0:\n",
    "                right -= 1\n",
    "            else:\n",
    "                results.append([nums[i], nums[left], nums[right]])\n",
    "                \n",
    "                # 다음값 또는 이전값이 같은 경우 처리\n",
    "                while left < right and nums[left] == nums[left + 1]:\n",
    "                    left += 1\n",
    "                    \n",
    "                while left < right and nums[right] == nums[right - 1]:\n",
    "                    right -= 1\n",
    "                    \n",
    "                left += 1\n",
    "                right -= 1\n",
    "                \n",
    "    return results\n",
    "\n",
    "threeSum(nums)"
   ]
  }
 ],
 "metadata": {
  "kernelspec": {
   "display_name": "Python 3",
   "language": "python",
   "name": "python3"
  },
  "language_info": {
   "codemirror_mode": {
    "name": "ipython",
    "version": 3
   },
   "file_extension": ".py",
   "mimetype": "text/x-python",
   "name": "python",
   "nbconvert_exporter": "python",
   "pygments_lexer": "ipython3",
   "version": "3.8.5"
  }
 },
 "nbformat": 4,
 "nbformat_minor": 4
}

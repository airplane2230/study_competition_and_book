{
 "cells": [
  {
   "cell_type": "code",
   "execution_count": null,
   "metadata": {},
   "outputs": [],
   "source": [
    "from typing import List"
   ]
  },
  {
   "cell_type": "code",
   "execution_count": null,
   "metadata": {},
   "outputs": [],
   "source": [
    "nums = [2, 7, 11, 15]\n",
    "target = 9"
   ]
  },
  {
   "cell_type": "markdown",
   "metadata": {},
   "source": [
    "## 브루트 포스로 계산"
   ]
  },
  {
   "cell_type": "code",
   "execution_count": null,
   "metadata": {},
   "outputs": [],
   "source": [
    "def twoSum(nums: List[int], target: int) -> List[int]:\n",
    "    for i in range(len(nums)):\n",
    "        for j in range(i + 1, len(nums)):\n",
    "            if nums[i] + nums[j] == target:\n",
    "                return [i, j]"
   ]
  },
  {
   "cell_type": "code",
   "execution_count": null,
   "metadata": {},
   "outputs": [],
   "source": [
    "twoSum(nums, target)"
   ]
  },
  {
   "cell_type": "markdown",
   "metadata": {},
   "source": [
    "## in을 이용한 탐색"
   ]
  },
  {
   "cell_type": "code",
   "execution_count": null,
   "metadata": {},
   "outputs": [],
   "source": [
    "def twoSum(nums: List[int], target: int) -> List[int]:\n",
    "    for i, n in enumerate(nums):\n",
    "        complement = target - n\n",
    "        \n",
    "        if complement in nums[i + 1:]:\n",
    "            # i + 1만큼 슬라이싱했으니 i + 1을 다시 더해주어야 원래 배열 인덱스임\n",
    "            return [nums.index(n), nums[i + 1:].index(complement) + (i + 1)]"
   ]
  },
  {
   "cell_type": "code",
   "execution_count": null,
   "metadata": {},
   "outputs": [],
   "source": [
    "twoSum(nums, target)"
   ]
  },
  {
   "cell_type": "markdown",
   "metadata": {},
   "source": [
    "## 첫 번째 수를 뺀 결과 키 조회"
   ]
  },
  {
   "cell_type": "code",
   "execution_count": null,
   "metadata": {},
   "outputs": [],
   "source": [
    "def twoSum(nums: List[int], target: int) -> List[int]:\n",
    "    nums_map = {}\n",
    "    \n",
    "    for i, num in enumerate(nums):\n",
    "        nums_map[num] = i\n",
    "            \n",
    "    for i, num in enumerate(nums):\n",
    "        # target과의 차이가 dict에 존재하고,\n",
    "        # 자기자신을 가리키는 경우는 제외\n",
    "        if target - num in nums_map and i != nums_map[target - num]:\n",
    "            return [i, nums_map[target - num]]"
   ]
  },
  {
   "cell_type": "code",
   "execution_count": null,
   "metadata": {},
   "outputs": [],
   "source": [
    "twoSum(nums, target)"
   ]
  },
  {
   "cell_type": "markdown",
   "metadata": {},
   "source": [
    "## 조회 구조 개선"
   ]
  },
  {
   "cell_type": "code",
   "execution_count": null,
   "metadata": {},
   "outputs": [],
   "source": [
    "def twoSum(nums: List[int], target: int) -> List[int]:\n",
    "    nums_map = {}\n",
    "    \n",
    "    for i, num in enumerate(nums):\n",
    "        if target - num in nums_map:\n",
    "            return [nums_map[target - num], i]\n",
    "        \n",
    "        nums_map[num] = i"
   ]
  },
  {
   "cell_type": "code",
   "execution_count": null,
   "metadata": {},
   "outputs": [],
   "source": [
    "twoSum(nums, target)"
   ]
  },
  {
   "cell_type": "markdown",
   "metadata": {},
   "source": [
    "## 투 포인터 이용"
   ]
  },
  {
   "cell_type": "code",
   "execution_count": null,
   "metadata": {},
   "outputs": [],
   "source": [
    "def twoSum(nums: List[int], target: int) -> List[int]:\n",
    "    left, right = 0, len(nums) - 1\n",
    "    while not left == right:\n",
    "        # 합이 타겟보다 작으면 왼쪽 포인터를 오른쪽으로\n",
    "        if nums[left] + nums[right] < target:\n",
    "            left += 1\n",
    "        # 합이 타겟보다 크면 오른쪽 포인터를 왼쪽으로\n",
    "        elif nums[left] + nums[right] > target:\n",
    "            right -= 1\n",
    "        else:\n",
    "            return [left, right]"
   ]
  },
  {
   "cell_type": "code",
   "execution_count": null,
   "metadata": {},
   "outputs": [],
   "source": [
    "twoSum(nums, target)"
   ]
  }
 ],
 "metadata": {
  "kernelspec": {
   "display_name": "Python 3",
   "language": "python",
   "name": "python3"
  },
  "language_info": {
   "codemirror_mode": {
    "name": "ipython",
    "version": 3
   },
   "file_extension": ".py",
   "mimetype": "text/x-python",
   "name": "python",
   "nbconvert_exporter": "python",
   "pygments_lexer": "ipython3",
   "version": "3.8.5"
  }
 },
 "nbformat": 4,
 "nbformat_minor": 4
}

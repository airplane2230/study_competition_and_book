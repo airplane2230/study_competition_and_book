{
 "cells": [
  {
   "cell_type": "code",
   "execution_count": null,
   "metadata": {},
   "outputs": [],
   "source": [
    "from typing import List\n",
    "\n",
    "test_case = [73, 74, 75, 71, 69, 72, 76, 73]"
   ]
  },
  {
   "cell_type": "markdown",
   "metadata": {},
   "source": [
    "## 스택 값 비교"
   ]
  },
  {
   "cell_type": "code",
   "execution_count": null,
   "metadata": {},
   "outputs": [],
   "source": [
    "def dailyTemperatures(T: List[int]) -> List[int]:\n",
    "    answer = [0] * len(T)\n",
    "    stack = []\n",
    "    \n",
    "    for i, cur in enumerate(T):\n",
    "        # 현재 온도가 스택 값보다 높으면 정답 처리\n",
    "        while stack and cur > T[stack[-1]]:\n",
    "            last = stack.pop()\n",
    "            answer[last] = i - last\n",
    "        stack.append(i)\n",
    "        \n",
    "    return answer\n",
    "\n",
    "dailyTemperatures(test_case)"
   ]
  }
 ],
 "metadata": {
  "kernelspec": {
   "display_name": "Python 3",
   "language": "python",
   "name": "python3"
  },
  "language_info": {
   "codemirror_mode": {
    "name": "ipython",
    "version": 3
   },
   "file_extension": ".py",
   "mimetype": "text/x-python",
   "name": "python",
   "nbconvert_exporter": "python",
   "pygments_lexer": "ipython3",
   "version": "3.8.5"
  }
 },
 "nbformat": 4,
 "nbformat_minor": 4
}

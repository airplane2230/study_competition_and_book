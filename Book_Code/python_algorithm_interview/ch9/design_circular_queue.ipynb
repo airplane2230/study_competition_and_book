{
 "cells": [
  {
   "cell_type": "markdown",
   "metadata": {},
   "source": [
    "## 배열을 이용한 풀이"
   ]
  },
  {
   "cell_type": "code",
   "execution_count": null,
   "metadata": {},
   "outputs": [],
   "source": [
    "class MyCircularQueue:\n",
    "    def __init__(self, k: int):\n",
    "        self.q = [None] * k\n",
    "        self.maxlen = k\n",
    "        self.p1 = 0\n",
    "        self.p2 = 0\n",
    "        \n",
    "    def enQueue(self, value: int) -> bool:\n",
    "        if self.q[self.p2] is None:\n",
    "            self.q[self.p2] = value\n",
    "            self.p2 = (self.p2 + 1) % self.maxlen\n",
    "            return True\n",
    "        else:\n",
    "            return False\n",
    "        \n",
    "    def deQueue(self) -> bool:\n",
    "        if self.q[self.p1] is None:\n",
    "            return False\n",
    "        else:\n",
    "            self.q[self.p1] = None\n",
    "            self.p1 = (self.p1 + 1) % self.maxlen\n",
    "            return True\n",
    "\n",
    "    def Front(self) -> int:\n",
    "        return -1 if self.q[self.p1] is None else self.q[self.p1]\n",
    "\n",
    "    def Rear(self) -> int:\n",
    "        return -1 if self.q[self.p2 - 1] is None else self.q[self.p2 - 1]\n",
    "        \n",
    "    def isEmpty(self) -> bool:\n",
    "        return self.p1 == self.p2 and self.q[self.p1] is None\n",
    "    \n",
    "    def isFull(self) -> bool:\n",
    "        return self.p1 == self.p2 and self.q[self.p1] is not None"
   ]
  }
 ],
 "metadata": {
  "kernelspec": {
   "display_name": "Python 3",
   "language": "python",
   "name": "python3"
  },
  "language_info": {
   "codemirror_mode": {
    "name": "ipython",
    "version": 3
   },
   "file_extension": ".py",
   "mimetype": "text/x-python",
   "name": "python",
   "nbconvert_exporter": "python",
   "pygments_lexer": "ipython3",
   "version": "3.8.5"
  }
 },
 "nbformat": 4,
 "nbformat_minor": 4
}

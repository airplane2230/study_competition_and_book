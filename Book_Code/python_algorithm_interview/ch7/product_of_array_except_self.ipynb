{
 "cells": [
  {
   "cell_type": "code",
   "execution_count": null,
   "metadata": {},
   "outputs": [],
   "source": [
    "from typing import List"
   ]
  },
  {
   "cell_type": "code",
   "execution_count": null,
   "metadata": {},
   "outputs": [],
   "source": [
    "test_case = [1, 2, 3, 4]"
   ]
  },
  {
   "cell_type": "markdown",
   "metadata": {},
   "source": [
    "## 왼쪽 곱셈 결과에 오른쪽 값을 차례대로 곱셈"
   ]
  },
  {
   "cell_type": "code",
   "execution_count": null,
   "metadata": {},
   "outputs": [],
   "source": [
    "def productExceptSelf(nums: List[int]) -> List[int]:\n",
    "    out = []\n",
    "    p = 1\n",
    "    \n",
    "    for i in range(0, len(nums)):\n",
    "        out.append(p)\n",
    "        p = p * nums[i]\n",
    "        print(out, p, i)\n",
    "        \n",
    "    p = 1\n",
    "    for i in range(len(nums) - 1, 0 - 1, -1):\n",
    "        out[i] = out[i] * p\n",
    "        p = p * nums[i]\n",
    "        \n",
    "    return out\n",
    "\n",
    "productExceptSelf(test_case)"
   ]
  }
 ],
 "metadata": {
  "kernelspec": {
   "display_name": "Python 3",
   "language": "python",
   "name": "python3"
  },
  "language_info": {
   "codemirror_mode": {
    "name": "ipython",
    "version": 3
   },
   "file_extension": ".py",
   "mimetype": "text/x-python",
   "name": "python",
   "nbconvert_exporter": "python",
   "pygments_lexer": "ipython3",
   "version": "3.8.5"
  }
 },
 "nbformat": 4,
 "nbformat_minor": 4
}

{
 "cells": [
  {
   "cell_type": "code",
   "execution_count": null,
   "metadata": {},
   "outputs": [],
   "source": [
    "from typing import List\n",
    "\n",
    "numbers = [2, 7, 11, 15]\n",
    "target = 9"
   ]
  },
  {
   "cell_type": "markdown",
   "metadata": {},
   "source": [
    "## 투 포인터"
   ]
  },
  {
   "cell_type": "code",
   "execution_count": null,
   "metadata": {},
   "outputs": [],
   "source": [
    "def twoSum(numbers: List[int], target: int) -> List[int]:\n",
    "    left, right = 0, len(numbers) - 1\n",
    "    while not left == right:\n",
    "        if numbers[left] + numbers[right] < target:\n",
    "            left += 1\n",
    "        elif numbers[left] + numbers[right] > target:\n",
    "            right -= 1\n",
    "        else:\n",
    "            return left + 1, right + 1\n",
    "        \n",
    "twoSum(numbers, target)"
   ]
  },
  {
   "cell_type": "markdown",
   "metadata": {},
   "source": [
    "## 이진 검색"
   ]
  },
  {
   "cell_type": "code",
   "execution_count": null,
   "metadata": {},
   "outputs": [],
   "source": [
    "def twoSum(numbers: List[int], target: int) -> List[int]:\n",
    "    for k, v in enumerate(numbers):\n",
    "        left, right = k + 1, len(numbers) - 1\n",
    "        expected = target - v\n",
    "        while left <= right:\n",
    "            mid = left + (right - left) // 2\n",
    "            if numbers[mid] < expected:\n",
    "                left = mid + 1\n",
    "            elif numbers[mid] > expected:\n",
    "                right = mid - 1\n",
    "            else:\n",
    "                return k + 1, mid + 1\n",
    "            \n",
    "twoSum(numbers, target)"
   ]
  },
  {
   "cell_type": "markdown",
   "metadata": {},
   "source": [
    "## bisect 모듈 + 슬라이싱"
   ]
  },
  {
   "cell_type": "code",
   "execution_count": null,
   "metadata": {},
   "outputs": [],
   "source": [
    "import bisect\n",
    "\n",
    "def twoSum(numbers: List[int], target: int) -> List[int]:\n",
    "    for k, v in enumerate(numbers):\n",
    "        expected = target - v\n",
    "        i = bisect.bisect_left(numbers[k + 1:], expected)\n",
    "        \n",
    "        if i < len(numbers[k + 1:]) and numbers[i + k + 1] == expected:\n",
    "            return k + 1, i + k + 2\n",
    "        \n",
    "twoSum(numbers, target)"
   ]
  },
  {
   "cell_type": "markdown",
   "metadata": {},
   "source": [
    "## bisect 모듈 + 슬라이싱 최소화"
   ]
  },
  {
   "cell_type": "code",
   "execution_count": null,
   "metadata": {},
   "outputs": [],
   "source": [
    "import bisect\n",
    "\n",
    "def twoSum(numbers: List[int], target: int) -> List[int]:\n",
    "    for k, v in enumerate(numbers):\n",
    "        expected = target - v\n",
    "        \n",
    "        nums = numbers[k + 1:]\n",
    "        \n",
    "        i = bisect.bisect_left(nums, expected)\n",
    "        \n",
    "        if i < len(nums) and numbers[i + k + 1] == expected:\n",
    "            return k + 1, i + k + 2\n",
    "            \n",
    "twoSum(numbers, target)"
   ]
  },
  {
   "cell_type": "markdown",
   "metadata": {},
   "source": [
    "## bisect 모듈 + 슬라이싱 제거"
   ]
  },
  {
   "cell_type": "code",
   "execution_count": null,
   "metadata": {},
   "outputs": [],
   "source": [
    "import bisect\n",
    "\n",
    "def twoSum(numbers: List[int], target: int) -> List[int]:\n",
    "    for k, v in enumerate(numbers):\n",
    "        exepcted = target - v\n",
    "        i = bisect.bisect_left(numbers, exepcted, k + 1)\n",
    "        if i < len(numbers) and numbers[i] == exepcted:\n",
    "            return k + 1, i + k + 2\n",
    "            \n",
    "twoSum(numbers, target)"
   ]
  }
 ],
 "metadata": {
  "kernelspec": {
   "display_name": "Python 3",
   "language": "python",
   "name": "python3"
  },
  "language_info": {
   "codemirror_mode": {
    "name": "ipython",
    "version": 3
   },
   "file_extension": ".py",
   "mimetype": "text/x-python",
   "name": "python",
   "nbconvert_exporter": "python",
   "pygments_lexer": "ipython3",
   "version": "3.8.5"
  }
 },
 "nbformat": 4,
 "nbformat_minor": 4
}

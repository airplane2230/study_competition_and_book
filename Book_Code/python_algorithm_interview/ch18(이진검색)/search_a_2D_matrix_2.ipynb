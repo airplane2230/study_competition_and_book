{
 "cells": [
  {
   "cell_type": "code",
   "execution_count": null,
   "metadata": {},
   "outputs": [],
   "source": [
    "matrix = [\n",
    "    [1, 4, 7, 11, 15],\n",
    "    [2, 5, 8, 12, 19],\n",
    "    [3, 6, 9, 16, 22],\n",
    "    [10, 13, 14, 17, 24],\n",
    "    [18, 21, 23, 26, 30]\n",
    "]"
   ]
  },
  {
   "cell_type": "markdown",
   "metadata": {},
   "source": [
    "## 첫 행의 맨 뒤에서 탐색"
   ]
  },
  {
   "cell_type": "code",
   "execution_count": null,
   "metadata": {},
   "outputs": [],
   "source": [
    "def searchMatrix(matrix, target):\n",
    "    if not matrix:\n",
    "        return False\n",
    "    \n",
    "    row = 0\n",
    "    col = len(matrix[0]) - 1\n",
    "    \n",
    "    while row <= len(matrix) - 1 and col >= 0:\n",
    "        if target == matrix[row][col]:\n",
    "            return True\n",
    "        elif target < matrix[row][col]:\n",
    "            col -= 1\n",
    "        elif target > matrix[row][col]:\n",
    "            row += 1\n",
    "        \n",
    "    return False\n",
    "\n",
    "searchMatrix(matrix, 8)"
   ]
  },
  {
   "cell_type": "markdown",
   "metadata": {},
   "source": [
    "## 파이선다운 방식"
   ]
  },
  {
   "cell_type": "code",
   "execution_count": null,
   "metadata": {},
   "outputs": [],
   "source": [
    "def searchMatrix(matrix, target):\n",
    "    return any(target in row for row in matrix)"
   ]
  }
 ],
 "metadata": {
  "kernelspec": {
   "display_name": "Python 3",
   "language": "python",
   "name": "python3"
  },
  "language_info": {
   "codemirror_mode": {
    "name": "ipython",
    "version": 3
   },
   "file_extension": ".py",
   "mimetype": "text/x-python",
   "name": "python",
   "nbconvert_exporter": "python",
   "pygments_lexer": "ipython3",
   "version": "3.8.5"
  }
 },
 "nbformat": 4,
 "nbformat_minor": 4
}

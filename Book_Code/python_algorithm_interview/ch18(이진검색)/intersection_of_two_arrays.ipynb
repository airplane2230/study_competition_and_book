{
 "cells": [
  {
   "cell_type": "code",
   "execution_count": null,
   "metadata": {},
   "outputs": [],
   "source": [
    "from typing import List\n",
    "\n",
    "\n",
    "nums1 = [1, 2, 2, 1]\n",
    "nums2 = [2, 2]"
   ]
  },
  {
   "cell_type": "markdown",
   "metadata": {},
   "source": [
    "## 브루트 포스로 계산"
   ]
  },
  {
   "cell_type": "code",
   "execution_count": null,
   "metadata": {},
   "outputs": [],
   "source": [
    "def intersection(nums1: List[int], nums2: List[int]) -> List[int]:\n",
    "    result = set()\n",
    "    for n1 in nums1:\n",
    "        for n2 in nums2:\n",
    "            if n1 == n2:\n",
    "                result.add(n1)\n",
    "                \n",
    "    return result            \n",
    "    \n",
    "intersection(nums1, nums2)"
   ]
  },
  {
   "cell_type": "markdown",
   "metadata": {},
   "source": [
    "## 이진 검색으로 일치 여부 판별"
   ]
  },
  {
   "cell_type": "code",
   "execution_count": null,
   "metadata": {},
   "outputs": [],
   "source": [
    "import bisect\n",
    "\n",
    "def intersection(nums1: List[int], nums2: List[int]) -> List[int]:\n",
    "    result = set()\n",
    "    nums2.sort()\n",
    "    \n",
    "    for n1 in nums1:\n",
    "        i2 = bisect.bisect_left(nums2, n1)\n",
    "        \n",
    "        if len(nums2) > 0 and len(nums2) > i2 and n1 == nums2[i2]:\n",
    "            result.add(n1)\n",
    "    \n",
    "    return result\n",
    "\n",
    "intersection(nums1, nums2)"
   ]
  },
  {
   "cell_type": "markdown",
   "metadata": {},
   "source": [
    "## 투 포인터로 일치 여부 판별"
   ]
  },
  {
   "cell_type": "code",
   "execution_count": null,
   "metadata": {},
   "outputs": [],
   "source": [
    "def intersection(nums1: List[int], nums2: List[int]) -> List[int]:\n",
    "    result = set()\n",
    "    \n",
    "    nums1.sort()\n",
    "    nums2.sort()\n",
    "    \n",
    "    i = j = 0\n",
    "    \n",
    "    while i < len(nums1) and j < len(nums2):\n",
    "        if nums1[i] > nums2[j]:\n",
    "            j += 1\n",
    "        elif nums1[i] < nums2[j]:\n",
    "            i += 1\n",
    "        else:\n",
    "            result.add(nums1[i])\n",
    "            i += 1\n",
    "            j += 1\n",
    "            \n",
    "    return result\n",
    "\n",
    "intersection(nums1, nums2)"
   ]
  }
 ],
 "metadata": {
  "kernelspec": {
   "display_name": "Python 3",
   "language": "python",
   "name": "python3"
  },
  "language_info": {
   "codemirror_mode": {
    "name": "ipython",
    "version": 3
   },
   "file_extension": ".py",
   "mimetype": "text/x-python",
   "name": "python",
   "nbconvert_exporter": "python",
   "pygments_lexer": "ipython3",
   "version": "3.8.5"
  }
 },
 "nbformat": 4,
 "nbformat_minor": 4
}

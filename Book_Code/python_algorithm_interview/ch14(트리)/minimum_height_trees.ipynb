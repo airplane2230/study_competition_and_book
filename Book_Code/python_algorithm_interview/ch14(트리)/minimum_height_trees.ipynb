{
 "cells": [
  {
   "cell_type": "code",
   "execution_count": null,
   "metadata": {},
   "outputs": [],
   "source": [
    "from typing import List\n",
    "import collections\n",
    "\n",
    "n = 6\n",
    "edges = [[0, 3], [1, 3], [2, 3], [4, 3], [5, 4]]"
   ]
  },
  {
   "cell_type": "markdown",
   "metadata": {},
   "source": [
    "## 최소 높이 트리"
   ]
  },
  {
   "cell_type": "code",
   "execution_count": null,
   "metadata": {},
   "outputs": [],
   "source": [
    "def findMinHeightTrees(n: int, edges: List[List[int]]) -> List[int]:\n",
    "    if n <= 1:\n",
    "        return [0]\n",
    "    \n",
    "    graph = collections.defaultdict(list)\n",
    "    for i, j in edges:\n",
    "        graph[i].append(j)\n",
    "        graph[j].append(i)\n",
    "    \n",
    "    leaves = []\n",
    "    for i in range(n + 1):\n",
    "        if len(graph[i]) == 1:\n",
    "            leaves.append(i)\n",
    "            \n",
    "    while n > 2:\n",
    "        n -= len(leaves)\n",
    "        new_leaves = []\n",
    "        for leaf in leaves:\n",
    "            neighbor = graph[leaf].pop()\n",
    "            graph[neighbor].remove(leaf)\n",
    "            \n",
    "            if len(graph[neighbor]) == 1:\n",
    "                new_leaves.append(neighbor)\n",
    "                \n",
    "        leaves = new_leaves\n",
    "        \n",
    "    return leaves\n",
    "\n",
    "findMinHeightTrees(n, edges)"
   ]
  }
 ],
 "metadata": {
  "kernelspec": {
   "display_name": "Python 3",
   "language": "python",
   "name": "python3"
  },
  "language_info": {
   "codemirror_mode": {
    "name": "ipython",
    "version": 3
   },
   "file_extension": ".py",
   "mimetype": "text/x-python",
   "name": "python",
   "nbconvert_exporter": "python",
   "pygments_lexer": "ipython3",
   "version": "3.8.5"
  }
 },
 "nbformat": 4,
 "nbformat_minor": 4
}

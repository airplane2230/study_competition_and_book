{
 "cells": [
  {
   "cell_type": "markdown",
   "metadata": {},
   "source": [
    "## 반복 구조로 BFS 풀이"
   ]
  },
  {
   "cell_type": "code",
   "execution_count": null,
   "metadata": {},
   "outputs": [],
   "source": [
    "import collections\r\n",
    "\r\n",
    "def maxDepth(root: TreeNode) -> int:\r\n",
    "    if root is None:\r\n",
    "        return 0\r\n",
    "    queue = collections.deque([root])\r\n",
    "    depth = 0\r\n",
    "    \r\n",
    "    while queue:\r\n",
    "        depth += 1\r\n",
    "        # 큐 연산 추출 노드의 자식 노드 삽입\r\n",
    "        for _ in range(len(queue)):\r\n",
    "            cur_root = queue.popleft()\r\n",
    "            if cur_root.left:\r\n",
    "                queue.append(cur_root.left)\r\n",
    "            if cur_root.right:\r\n",
    "                queue.append(cur_root.right)\r\n",
    "                \r\n",
    "    return depth"
   ]
  }
 ],
 "metadata": {
  "kernelspec": {
   "display_name": "Python 3",
   "language": "python",
   "name": "python3"
  },
  "language_info": {
   "codemirror_mode": {
    "name": "ipython",
    "version": 3
   },
   "file_extension": ".py",
   "mimetype": "text/x-python",
   "name": "python",
   "nbconvert_exporter": "python",
   "pygments_lexer": "ipython3",
   "version": "3.8.5"
  }
 },
 "nbformat": 4,
 "nbformat_minor": 4
}
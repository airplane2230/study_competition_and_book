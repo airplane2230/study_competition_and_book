{
 "cells": [
  {
   "cell_type": "markdown",
   "metadata": {},
   "source": [
    "## 재귀 구조 DFS로 브루트 포스 탐색"
   ]
  },
  {
   "cell_type": "code",
   "execution_count": null,
   "metadata": {},
   "outputs": [],
   "source": [
    "def rangeSumBST(root: TreeNode, L: int, R: int) -> int:\n",
    "    if not root:\n",
    "        return 0\n",
    "    \n",
    "    return (root.val if L <= root.val <= R else 0) + rangeSumBST(root.left, L, R) + rangeSumBST(root.right, L, R)"
   ]
  },
  {
   "cell_type": "markdown",
   "metadata": {},
   "source": [
    "## DFS 가지치기로 필요한 노드 탐색"
   ]
  },
  {
   "cell_type": "code",
   "execution_count": null,
   "metadata": {},
   "outputs": [],
   "source": [
    "def rangeSumBST(root: TreeNode, L: int, R: int) -> int:\n",
    "    def dfs(node: TreeNode):\n",
    "        if not node:\n",
    "            return 0\n",
    "        \n",
    "        if node.val < L:\n",
    "            return dfs(node.right)\n",
    "        elif node.val > R:\n",
    "            return dfs(node.left)\n",
    "        return node.val + dfs(node.left) + dfs(node.right)\n",
    "    \n",
    "    return dfs(root)"
   ]
  },
  {
   "cell_type": "markdown",
   "metadata": {},
   "source": [
    "## 반복 구조 DFS로 필요한 노드 탐색"
   ]
  },
  {
   "cell_type": "code",
   "execution_count": null,
   "metadata": {},
   "outputs": [],
   "source": [
    "def rangeSumBST(root: TreeNode, L: int, R: int) -> int:\n",
    "    stack, sum = [root], 0\n",
    "    \n",
    "    while stack:\n",
    "        node = stack.pop()\n",
    "        \n",
    "        if node.val > L:\n",
    "            stack.append(node.left)\n",
    "        elif node.val < R:\n",
    "            stack.append(node.right)\n",
    "        if L <= node.val <= R:\n",
    "            sum += node.val\n",
    "            \n",
    "    return sum"
   ]
  },
  {
   "cell_type": "markdown",
   "metadata": {},
   "source": [
    "## 반복 구조 BFS로 필요한 노드 탐색"
   ]
  },
  {
   "cell_type": "code",
   "execution_count": null,
   "metadata": {},
   "outputs": [],
   "source": [
    "def rangeSumBST(root: TreeNode, L: int, R: int) -> int:\n",
    "    stack, sum = [root], 0\n",
    "    \n",
    "    while stack:\n",
    "        node = stack.pop(0)\n",
    "        \n",
    "        if node.val > L:\n",
    "            stack.append(node.left)\n",
    "        elif node.val < R:\n",
    "            stack.append(node.right)\n",
    "        if L <= node.val <= R:\n",
    "            sum += node.val\n",
    "            \n",
    "    return sum"
   ]
  }
 ],
 "metadata": {
  "kernelspec": {
   "display_name": "Python 3",
   "language": "python",
   "name": "python3"
  },
  "language_info": {
   "codemirror_mode": {
    "name": "ipython",
    "version": 3
   },
   "file_extension": ".py",
   "mimetype": "text/x-python",
   "name": "python",
   "nbconvert_exporter": "python",
   "pygments_lexer": "ipython3",
   "version": "3.8.5"
  }
 },
 "nbformat": 4,
 "nbformat_minor": 4
}

{
 "cells": [
  {
   "cell_type": "markdown",
   "metadata": {},
   "source": [
    "## 재귀 구조로 높이 차이 계산"
   ]
  },
  {
   "cell_type": "code",
   "execution_count": null,
   "metadata": {},
   "outputs": [],
   "source": [
    "def isBalanced(root: TreeNode) -> bool:\n",
    "    def check(root):\n",
    "        if not root:\n",
    "            return 0\n",
    "        \n",
    "        left = check(root.left)\n",
    "        right = check(root.right)\n",
    "        \n",
    "        # 높이 차이가 나는 경우 -1, 이외에는 높이에 따라 1 증가\n",
    "        if left == -1 or right == -1 or abs(left - right) > 1:\n",
    "            return -1\n",
    "        return max(left, right) + 1\n",
    "    \n",
    "    return check(root) != -1"
   ]
  }
 ],
 "metadata": {
  "kernelspec": {
   "display_name": "Python 3",
   "language": "python",
   "name": "python3"
  },
  "language_info": {
   "codemirror_mode": {
    "name": "ipython",
    "version": 3
   },
   "file_extension": ".py",
   "mimetype": "text/x-python",
   "name": "python",
   "nbconvert_exporter": "python",
   "pygments_lexer": "ipython3",
   "version": "3.8.5"
  }
 },
 "nbformat": 4,
 "nbformat_minor": 4
}

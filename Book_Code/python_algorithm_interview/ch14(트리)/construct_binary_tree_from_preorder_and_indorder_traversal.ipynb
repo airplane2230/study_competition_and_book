{
 "cells": [
  {
   "cell_type": "markdown",
   "metadata": {},
   "source": [
    "## 전위 순회 결과로 중위 순회 분할 정복"
   ]
  },
  {
   "cell_type": "code",
   "execution_count": null,
   "metadata": {},
   "outputs": [],
   "source": [
    "def buildTree(predorder: List[int], inorder: List[int]) -> TreeNode:\n",
    "    if inorder:\n",
    "        index = inorder.index(preorder.pop(0))\n",
    "        \n",
    "        node = TreeNode(inorder[index])\n",
    "        node.left = buildTree(preorder, inorder[0:index])\n",
    "        node.right = buildTree(preorder, inorder[index + 1:])\n",
    "        \n",
    "        return node"
   ]
  }
 ],
 "metadata": {
  "kernelspec": {
   "display_name": "Python 3",
   "language": "python",
   "name": "python3"
  },
  "language_info": {
   "codemirror_mode": {
    "name": "ipython",
    "version": 3
   },
   "file_extension": ".py",
   "mimetype": "text/x-python",
   "name": "python",
   "nbconvert_exporter": "python",
   "pygments_lexer": "ipython3",
   "version": "3.8.5"
  }
 },
 "nbformat": 4,
 "nbformat_minor": 4
}

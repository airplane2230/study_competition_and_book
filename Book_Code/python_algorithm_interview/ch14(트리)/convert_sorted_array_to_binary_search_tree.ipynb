{
 "cells": [
  {
   "cell_type": "markdown",
   "metadata": {},
   "source": [
    "## 이진 검색 결과로 트리 구성"
   ]
  },
  {
   "cell_type": "code",
   "execution_count": null,
   "metadata": {},
   "outputs": [],
   "source": [
    "def sortedArrayToBST(nums: List[int]) -> TreeNode:\n",
    "    if not nums:\n",
    "        return None\n",
    "    \n",
    "    mid = len(nums) // 2\n",
    "    \n",
    "    node = TreeNode(nums[mid])\n",
    "    node.left = sortedArrayToBST(nums[:mid])\n",
    "    node.right = sortedArrayToBST(nums[mid + 1:])\n",
    "    \n",
    "    return node"
   ]
  }
 ],
 "metadata": {
  "kernelspec": {
   "display_name": "Python 3",
   "language": "python",
   "name": "python3"
  },
  "language_info": {
   "codemirror_mode": {
    "name": "ipython",
    "version": 3
   },
   "file_extension": ".py",
   "mimetype": "text/x-python",
   "name": "python",
   "nbconvert_exporter": "python",
   "pygments_lexer": "ipython3",
   "version": "3.8.5"
  }
 },
 "nbformat": 4,
 "nbformat_minor": 4
}

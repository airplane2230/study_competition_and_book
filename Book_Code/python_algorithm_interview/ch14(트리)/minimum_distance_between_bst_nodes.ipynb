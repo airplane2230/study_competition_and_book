{
 "cells": [
  {
   "cell_type": "markdown",
   "metadata": {},
   "source": [
    "## 재귀 구조로 중위 순회"
   ]
  },
  {
   "cell_type": "code",
   "execution_count": null,
   "metadata": {},
   "outputs": [],
   "source": [
    "class Solution:\n",
    "    prev = -sys.maxsize\n",
    "    result = sys.maxsize\n",
    "    \n",
    "    def minDiffInBST(self, root: TreeNode) -> int:\n",
    "        if root.left:\n",
    "            self.mindDiffInBST(root.left)\n",
    "            \n",
    "        self.result = min(self.result, root.val - self.prev)\n",
    "        self.prev = root.val\n",
    "        \n",
    "        if root.right:\n",
    "            self.minDiffInBST(root.right)\n",
    "            \n",
    "        return self.result"
   ]
  },
  {
   "cell_type": "markdown",
   "metadata": {},
   "source": [
    "## 반복 구조로 중위 순회 "
   ]
  },
  {
   "cell_type": "code",
   "execution_count": null,
   "metadata": {},
   "outputs": [],
   "source": [
    "def minDiffInBST(self, root: TreeNode) -> int:\n",
    "    prev = -sys.maxsize\n",
    "    result = sys.maxsize\n",
    "    \n",
    "    stack = []\n",
    "    node = root\n",
    "    \n",
    "    while stack or node:\n",
    "        while node:\n",
    "            stack.append(node)\n",
    "            node = node.left\n",
    "            \n",
    "        node = stack.pop()\n",
    "        \n",
    "        result = min(result, node.val - prev)\n",
    "        prev = node.val\n",
    "        \n",
    "        node = node.right\n",
    "        \n",
    "    return result"
   ]
  }
 ],
 "metadata": {
  "kernelspec": {
   "display_name": "Python 3",
   "language": "python",
   "name": "python3"
  },
  "language_info": {
   "codemirror_mode": {
    "name": "ipython",
    "version": 3
   },
   "file_extension": ".py",
   "mimetype": "text/x-python",
   "name": "python",
   "nbconvert_exporter": "python",
   "pygments_lexer": "ipython3",
   "version": "3.8.5"
  }
 },
 "nbformat": 4,
 "nbformat_minor": 4
}

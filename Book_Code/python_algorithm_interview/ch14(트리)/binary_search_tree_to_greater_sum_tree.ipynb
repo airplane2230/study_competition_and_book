{
 "cells": [
  {
   "cell_type": "markdown",
   "metadata": {},
   "source": [
    "## 중위 순회로 노드 값 누적"
   ]
  },
  {
   "cell_type": "code",
   "execution_count": null,
   "metadata": {},
   "outputs": [],
   "source": [
    "class Solution:\n",
    "    val: int = 0\n",
    "        \n",
    "    def bstToGst(root: TreeNode) -> TreeNode:\n",
    "        # 중위 순회 노드 값 누적\n",
    "        if root:\n",
    "            self.bstToGst(root.right)\n",
    "            self.val += root.val\n",
    "            root.val = self.val\n",
    "            self.bstToGst(root.left)\n",
    "            \n",
    "        return root"
   ]
  }
 ],
 "metadata": {
  "kernelspec": {
   "display_name": "Python 3",
   "language": "python",
   "name": "python3"
  },
  "language_info": {
   "codemirror_mode": {
    "name": "ipython",
    "version": 3
   },
   "file_extension": ".py",
   "mimetype": "text/x-python",
   "name": "python",
   "nbconvert_exporter": "python",
   "pygments_lexer": "ipython3",
   "version": "3.8.5"
  }
 },
 "nbformat": 4,
 "nbformat_minor": 4
}

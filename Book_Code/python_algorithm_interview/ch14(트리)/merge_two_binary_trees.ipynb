{
 "cells": [
  {
   "cell_type": "markdown",
   "metadata": {},
   "source": [
    "## 재귀 탐색"
   ]
  },
  {
   "cell_type": "code",
   "execution_count": null,
   "metadata": {},
   "outputs": [],
   "source": [
    "def mergeTrees(t1: TreeNode, t2: TreeNode) -> TreeNode:\n",
    "    if t1 and t2:\n",
    "        node = TreeNode(t1.val + t2.val)\n",
    "        node.left = mergeTrees(t1.left, t2.left)\n",
    "        node.right = mergeTrees(t1.right, t2.right)\n",
    "        \n",
    "        return node\n",
    "    else:\n",
    "        return t1 or t2"
   ]
  }
 ],
 "metadata": {
  "kernelspec": {
   "display_name": "Python 3",
   "language": "python",
   "name": "python3"
  },
  "language_info": {
   "codemirror_mode": {
    "name": "ipython",
    "version": 3
   },
   "file_extension": ".py",
   "mimetype": "text/x-python",
   "name": "python",
   "nbconvert_exporter": "python",
   "pygments_lexer": "ipython3",
   "version": "3.8.5"
  }
 },
 "nbformat": 4,
 "nbformat_minor": 4
}

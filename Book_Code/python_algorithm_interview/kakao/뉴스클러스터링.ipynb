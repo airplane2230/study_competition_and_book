{
 "cells": [
  {
   "cell_type": "code",
   "execution_count": null,
   "metadata": {},
   "outputs": [],
   "source": [
    "str1 = 'FRANCE'\n",
    "str2 = 'french'"
   ]
  },
  {
   "cell_type": "markdown",
   "metadata": {},
   "source": [
    "## Counter를 이용한 합집합, 교집합, 자카드 유사도 판별"
   ]
  },
  {
   "cell_type": "code",
   "execution_count": null,
   "metadata": {},
   "outputs": [],
   "source": [
    "import collections\n",
    "import re\n",
    "\n",
    "def solution(str1: str, str2: str) -> int:\n",
    "    str1s = [\n",
    "        str1[i: i + 2].lower()\n",
    "        for i in range(len(str1) - 1)\n",
    "        if re.findall('[a-z]{2}', str1[i:i + 2].lower())\n",
    "    ]\n",
    "    \n",
    "    str2s = [\n",
    "        str2[i: i + 2].lower()\n",
    "        for i in range(len(str2) - 1)\n",
    "        if re.findall('[a-z]{2}', str2[i:i + 2].lower())\n",
    "    ]\n",
    "    \n",
    "    intersection = sum((collections.Counter(str1s) & collections.Counter(str2s)).values())\n",
    "    \n",
    "    union = sum((collections.Counter(str1s) | collections.Counter(str2s)).values())\n",
    "    \n",
    "    jaccard_sim = 1 if union == 0 else intersection / union\n",
    "    \n",
    "    return int(jaccard_sim * 65536)\n",
    "\n",
    "solution(str1, str2)"
   ]
  }
 ],
 "metadata": {
  "kernelspec": {
   "display_name": "Python 3",
   "language": "python",
   "name": "python3"
  },
  "language_info": {
   "codemirror_mode": {
    "name": "ipython",
    "version": 3
   },
   "file_extension": ".py",
   "mimetype": "text/x-python",
   "name": "python",
   "nbconvert_exporter": "python",
   "pygments_lexer": "ipython3",
   "version": "3.8.5"
  }
 },
 "nbformat": 4,
 "nbformat_minor": 4
}

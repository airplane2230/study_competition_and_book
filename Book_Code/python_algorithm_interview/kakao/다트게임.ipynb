{
 "cells": [
  {
   "cell_type": "code",
   "execution_count": null,
   "metadata": {},
   "outputs": [],
   "source": [
    "dartResult = '1S2D*3T'"
   ]
  },
  {
   "cell_type": "markdown",
   "metadata": {},
   "source": [
    "## 문자열 및 자릿수 올림 처리"
   ]
  },
  {
   "cell_type": "code",
   "execution_count": null,
   "metadata": {},
   "outputs": [],
   "source": [
    "def solution(dartResult: str) -> int:\n",
    "    nums = [0]\n",
    "    \n",
    "    for s in dartResult:\n",
    "        print(nums)\n",
    "        if s == 'S':\n",
    "            nums[-1] **= 1\n",
    "            nums.append(0)\n",
    "        elif s == 'D':\n",
    "            nums[-1] **= 2\n",
    "            nums.append(0)\n",
    "        elif s == 'T':\n",
    "            nums[-1] **= 3\n",
    "            nums.append(0)\n",
    "        elif s == '*':\n",
    "            nums[-2] *= 2\n",
    "            if len(nums) > 2:\n",
    "                nums[-3] *= 2\n",
    "        elif s == '#':\n",
    "            nums[-2] *= -1\n",
    "        else:\n",
    "            nums[-1] = nums[-1] * 10 + int(s)\n",
    "            \n",
    "    return sum(nums)\n",
    "\n",
    "solution(dartResult)"
   ]
  }
 ],
 "metadata": {
  "kernelspec": {
   "display_name": "Python 3",
   "language": "python",
   "name": "python3"
  },
  "language_info": {
   "codemirror_mode": {
    "name": "ipython",
    "version": 3
   },
   "file_extension": ".py",
   "mimetype": "text/x-python",
   "name": "python",
   "nbconvert_exporter": "python",
   "pygments_lexer": "ipython3",
   "version": "3.8.5"
  }
 },
 "nbformat": 4,
 "nbformat_minor": 4
}

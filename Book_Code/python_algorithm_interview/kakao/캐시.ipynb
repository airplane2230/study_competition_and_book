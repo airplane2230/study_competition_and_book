{
 "cells": [
  {
   "cell_type": "code",
   "execution_count": null,
   "metadata": {},
   "outputs": [],
   "source": [
    "from typing import List\n",
    "import collections\n",
    "\n",
    "def solution(cacheSize: int, cities: List[str]) -> int:\n",
    "    elapsed: int = 0\n",
    "    cache = collections.deque(maxlen = cacheSize)\n",
    "    \n",
    "    for c in cities:\n",
    "        c = c.lower()\n",
    "        \n",
    "        if c in chche:\n",
    "            cache.remove(c)\n",
    "            cache.append(c)\n",
    "            elapsed += 1\n",
    "        else:\n",
    "            cache.append(c)\n",
    "            elapsed += 5\n",
    "            \n",
    "    return elapsed"
   ]
  }
 ],
 "metadata": {
  "kernelspec": {
   "display_name": "Python 3",
   "language": "python",
   "name": "python3"
  },
  "language_info": {
   "codemirror_mode": {
    "name": "ipython",
    "version": 3
   },
   "file_extension": ".py",
   "mimetype": "text/x-python",
   "name": "python",
   "nbconvert_exporter": "python",
   "pygments_lexer": "ipython3",
   "version": "3.8.5"
  }
 },
 "nbformat": 4,
 "nbformat_minor": 4
}

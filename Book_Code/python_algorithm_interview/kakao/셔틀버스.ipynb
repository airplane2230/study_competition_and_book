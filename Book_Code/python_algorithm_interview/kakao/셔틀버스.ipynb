{
 "cells": [
  {
   "cell_type": "code",
   "execution_count": null,
   "metadata": {},
   "outputs": [],
   "source": [
    "n = 1 # 운행 횟수\n",
    "t = 1 # 운행 간격\n",
    "m = 5 # 최대 크루 수\n",
    "test_case = ['08:00', '08:01', '08:02', '08:03']"
   ]
  },
  {
   "cell_type": "markdown",
   "metadata": {},
   "source": [
    "## 입력값 전처리 및 대기 시각 처리"
   ]
  },
  {
   "cell_type": "code",
   "execution_count": null,
   "metadata": {},
   "outputs": [],
   "source": [
    "from typing import List\n",
    "\n",
    "\n",
    "def solution(n: int, t: int, m: int, timetable: List[str]) -> str:\n",
    "    \n",
    "    timetable = [\n",
    "        int(time[:2]) * 60 + int(time[3:])\n",
    "        for time in timetable\n",
    "    ]\n",
    "    \n",
    "    timetable.sort()\n",
    "    \n",
    "    current = 540\n",
    "    for _ in range(n):\n",
    "        for _ in range(m):\n",
    "            if timetable and timetable[0] <= current:\n",
    "                candidate = timetable.pop(0) - 1\n",
    "            else:\n",
    "                candidate = current\n",
    "                \n",
    "        current += t\n",
    "        \n",
    "    h, m = divmod(candidate, 60)\n",
    "    \n",
    "    return str(h).zfill(2) + ':' + str(m).zfill(2)\n",
    "\n",
    "solution(n, t, m, test_case)"
   ]
  }
 ],
 "metadata": {
  "kernelspec": {
   "display_name": "Python 3",
   "language": "python",
   "name": "python3"
  },
  "language_info": {
   "codemirror_mode": {
    "name": "ipython",
    "version": 3
   },
   "file_extension": ".py",
   "mimetype": "text/x-python",
   "name": "python",
   "nbconvert_exporter": "python",
   "pygments_lexer": "ipython3",
   "version": "3.8.5"
  }
 },
 "nbformat": 4,
 "nbformat_minor": 4
}

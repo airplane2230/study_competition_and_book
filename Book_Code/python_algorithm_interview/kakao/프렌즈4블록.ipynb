{
 "cells": [
  {
   "cell_type": "code",
   "execution_count": null,
   "metadata": {},
   "outputs": [],
   "source": [
    "m = 4\n",
    "n = 5\n",
    "board = ['CCBDE', 'AAADE', 'AAABF', 'CCBBF']"
   ]
  },
  {
   "cell_type": "markdown",
   "metadata": {},
   "source": [
    "## 3단계 비즈니스 로직 구현"
   ]
  },
  {
   "cell_type": "code",
   "execution_count": null,
   "metadata": {},
   "outputs": [],
   "source": [
    "from typing import List\n",
    "\n",
    "def solution(m: int, n: int, board: List[str]) -> int:\n",
    "    board = [list(x) for x in board]\n",
    "    \n",
    "    matched = True\n",
    "    while matched:\n",
    "        # 일치 여부 판별\n",
    "        matched = []\n",
    "        for i in range(m - 1):\n",
    "            for j in range(n - 1):\n",
    "                if board[i][j] == board[i][j + 1] == board[i + 1][j + 1] == board[i + 1][j] != '#':\n",
    "                    matched.append([i, j])\n",
    "                    \n",
    "        # 일치한 위치 삭제\n",
    "        for i, j in matched:\n",
    "            board[i][j] = board[i][j + 1] = board[i + 1][j + 1] = board[i + 1][j] = '#'\n",
    "            \n",
    "        # 빈공간 블럭 처리\n",
    "        for _ in range(m):\n",
    "            for i in range(m - 1):\n",
    "                for j in range(n):\n",
    "                    if board[i + 1][j] == '#':\n",
    "                        board[i + 1][j], board[i][j] = board[i][j], '#'\n",
    "                        \n",
    "    return sum(x.count('#') for x in board)\n",
    "\n",
    "solution(m, n, board)"
   ]
  }
 ],
 "metadata": {
  "kernelspec": {
   "display_name": "Python 3",
   "language": "python",
   "name": "python3"
  },
  "language_info": {
   "codemirror_mode": {
    "name": "ipython",
    "version": 3
   },
   "file_extension": ".py",
   "mimetype": "text/x-python",
   "name": "python",
   "nbconvert_exporter": "python",
   "pygments_lexer": "ipython3",
   "version": "3.8.5"
  }
 },
 "nbformat": 4,
 "nbformat_minor": 4
}

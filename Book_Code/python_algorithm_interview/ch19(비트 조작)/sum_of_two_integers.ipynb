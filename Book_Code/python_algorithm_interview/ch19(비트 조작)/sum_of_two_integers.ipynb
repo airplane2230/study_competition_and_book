{
 "cells": [
  {
   "cell_type": "code",
   "execution_count": null,
   "metadata": {},
   "outputs": [],
   "source": [
    "a = 1\n",
    "b = 2"
   ]
  },
  {
   "cell_type": "markdown",
   "metadata": {},
   "source": [
    "## 두 정수의 합"
   ]
  },
  {
   "cell_type": "code",
   "execution_count": null,
   "metadata": {},
   "outputs": [],
   "source": [
    "def getSum(a: int, b: int) -> int:\n",
    "    MASK = 0xFFFFFFFF\n",
    "    INT_MAX = 0x7FFFFFFF\n",
    "    \n",
    "    a_bin = bin(a & MASK)[2:].zfill(32)\n",
    "    b_bin = bin(b & MASK)[2:].zfill(32)\n",
    "    \n",
    "    result = []\n",
    "    carry = 0\n",
    "    sum = 0\n",
    "    \n",
    "    for i in range(32):\n",
    "        A = int(a_bin[31 - i])\n",
    "        B = int(b_bin[31 - i])\n",
    "        \n",
    "        Q1 = A & B\n",
    "        Q2 = A ^ B\n",
    "        Q3 = Q2 & carry\n",
    "        sum = carry ^ Q2\n",
    "        carry = Q1 | Q3\n",
    "        \n",
    "        result.append(str(sum))\n",
    "        \n",
    "    if carry == 1:\n",
    "        result.append('1')\n",
    "        \n",
    "    result = int(''.join(result[::-1]), 2) & MASK\n",
    "    \n",
    "    if result > INT_MAX:\n",
    "        result = ~(result ^ MASK)\n",
    "        \n",
    "    return result\n",
    "\n",
    "getSum(a, b)"
   ]
  },
  {
   "cell_type": "markdown",
   "metadata": {},
   "source": [
    "## 좀 더 간소한 구현"
   ]
  },
  {
   "cell_type": "code",
   "execution_count": null,
   "metadata": {},
   "outputs": [],
   "source": [
    "def getSum(a: int, b: int) -> int:\n",
    "    MASK = 0xFFFFFFFF\n",
    "    INT_MAX = 0x7FFFFFFF\n",
    "    \n",
    "    while b != 0:\n",
    "        a, b = (a ^ b) & MASK, ((a & b) << 1) & MASK\n",
    "        \n",
    "    if a > INT_MAX:\n",
    "        a = ~(a & MASK)\n",
    "        \n",
    "    return a\n",
    "\n",
    "getSum(a, b)"
   ]
  }
 ],
 "metadata": {
  "kernelspec": {
   "display_name": "Python 3",
   "language": "python",
   "name": "python3"
  },
  "language_info": {
   "codemirror_mode": {
    "name": "ipython",
    "version": 3
   },
   "file_extension": ".py",
   "mimetype": "text/x-python",
   "name": "python",
   "nbconvert_exporter": "python",
   "pygments_lexer": "ipython3",
   "version": "3.8.5"
  }
 },
 "nbformat": 4,
 "nbformat_minor": 4
}

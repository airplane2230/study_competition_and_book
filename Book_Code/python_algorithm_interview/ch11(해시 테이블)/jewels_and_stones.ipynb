{
 "cells": [
  {
   "cell_type": "code",
   "execution_count": null,
   "metadata": {},
   "outputs": [],
   "source": [
    "import collections\n",
    "\n",
    "J = 'aA'\n",
    "S = 'aAAbbbb'"
   ]
  },
  {
   "cell_type": "markdown",
   "metadata": {},
   "source": [
    "## 해시 테이블을 이용한 풀이"
   ]
  },
  {
   "cell_type": "code",
   "execution_count": null,
   "metadata": {},
   "outputs": [],
   "source": [
    "def numJewelsInStones(J: str, S: str) -> int:\n",
    "    freqs = {}\n",
    "    count = 0\n",
    "    \n",
    "    for char in S:\n",
    "        if char not in freqs:\n",
    "            freqs[char] = 1\n",
    "        else:\n",
    "            freqs[char] += 1\n",
    "            \n",
    "    for char in J:\n",
    "        if char in freqs:\n",
    "            count += freqs[char]\n",
    "            \n",
    "    return count\n",
    "\n",
    "numJewelsInStones(J, S)"
   ]
  },
  {
   "cell_type": "markdown",
   "metadata": {},
   "source": [
    "## defaultdict를 이용한 비교 생략"
   ]
  },
  {
   "cell_type": "code",
   "execution_count": null,
   "metadata": {},
   "outputs": [],
   "source": [
    "def numJewelsInStones(J: str, S: str) -> int:\n",
    "    freqs = collections.defaultdict(int)\n",
    "    count = 0\n",
    "    \n",
    "    for char in S:\n",
    "        freqs[char] += 1\n",
    "        \n",
    "    for char in J:\n",
    "        count += freqs[char]\n",
    "        \n",
    "    return count\n",
    "\n",
    "numJewelsInStones(J, S)"
   ]
  },
  {
   "cell_type": "markdown",
   "metadata": {},
   "source": [
    "## Counter로 계산 생략"
   ]
  },
  {
   "cell_type": "code",
   "execution_count": null,
   "metadata": {},
   "outputs": [],
   "source": [
    "def numJewelsInStones(J: str, S: str) -> int:\n",
    "    freqs = collections.Counter(S)\n",
    "    count = 0\n",
    "    \n",
    "    for char in J:\n",
    "        count += freqs[char]\n",
    "        \n",
    "    return count\n",
    "\n",
    "numJewelsInStones(J, S)"
   ]
  },
  {
   "cell_type": "markdown",
   "metadata": {},
   "source": [
    "## 파이썬다운 방식"
   ]
  },
  {
   "cell_type": "code",
   "execution_count": null,
   "metadata": {},
   "outputs": [],
   "source": [
    "def numJewelsInStones(J: str, S: str) -> int:\n",
    "    return sum(s in J for s in S)\n",
    "\n",
    "numJewelsInStones(J, S)"
   ]
  }
 ],
 "metadata": {
  "kernelspec": {
   "display_name": "Python 3",
   "language": "python",
   "name": "python3"
  },
  "language_info": {
   "codemirror_mode": {
    "name": "ipython",
    "version": 3
   },
   "file_extension": ".py",
   "mimetype": "text/x-python",
   "name": "python",
   "nbconvert_exporter": "python",
   "pygments_lexer": "ipython3",
   "version": "3.8.5"
  }
 },
 "nbformat": 4,
 "nbformat_minor": 4
}

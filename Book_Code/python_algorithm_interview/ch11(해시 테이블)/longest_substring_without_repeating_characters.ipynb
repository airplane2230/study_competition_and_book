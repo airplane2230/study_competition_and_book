{
 "cells": [
  {
   "cell_type": "code",
   "execution_count": null,
   "metadata": {},
   "outputs": [],
   "source": [
    "test_case = 'abcabcbb'"
   ]
  },
  {
   "cell_type": "markdown",
   "metadata": {},
   "source": [
    "## 슬라이딩 윈도우와 투 포인터로 사이즈 조절"
   ]
  },
  {
   "cell_type": "code",
   "execution_count": null,
   "metadata": {},
   "outputs": [],
   "source": [
    "def lengthOfLongestSubstring(s: str) -> int:\n",
    "    used = {}\n",
    "    max_length = start = 0\n",
    "    \n",
    "    for index, char in enumerate(s):\n",
    "        if char in used and start <= used[char]:\n",
    "            start = used[char] + 1\n",
    "        else:\n",
    "            max_length = max(max_length, index - start + 1)\n",
    "            \n",
    "        used[char] = index\n",
    "        \n",
    "    return max_length\n",
    "\n",
    "lengthOfLongestSubstring('bcadafgaabcde')"
   ]
  }
 ],
 "metadata": {
  "kernelspec": {
   "display_name": "Python 3",
   "language": "python",
   "name": "python3"
  },
  "language_info": {
   "codemirror_mode": {
    "name": "ipython",
    "version": 3
   },
   "file_extension": ".py",
   "mimetype": "text/x-python",
   "name": "python",
   "nbconvert_exporter": "python",
   "pygments_lexer": "ipython3",
   "version": "3.8.5"
  }
 },
 "nbformat": 4,
 "nbformat_minor": 4
}

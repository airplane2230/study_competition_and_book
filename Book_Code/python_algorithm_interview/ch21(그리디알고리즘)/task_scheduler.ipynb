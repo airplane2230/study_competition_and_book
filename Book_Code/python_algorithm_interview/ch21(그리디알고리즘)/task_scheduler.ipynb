{
 "cells": [
  {
   "cell_type": "code",
   "execution_count": null,
   "metadata": {},
   "outputs": [],
   "source": [
    "tasks = ['A', 'A', 'A', 'B', 'B', 'B']\n",
    "n = 2"
   ]
  },
  {
   "cell_type": "markdown",
   "metadata": {},
   "source": [
    "## 우선순위 큐 이용"
   ]
  },
  {
   "cell_type": "code",
   "execution_count": null,
   "metadata": {},
   "outputs": [],
   "source": [
    "import collections\n",
    "from typing import List\n",
    "\n",
    "def leastInterval(tasks: List[str], n: int) -> int:\n",
    "    counter = collections.Counter(tasks)\n",
    "    result = 0\n",
    "    \n",
    "    while True:\n",
    "        sub_count = 0\n",
    "        \n",
    "        for task, _ in counter.most_common(n + 1):\n",
    "            sub_count += 1\n",
    "            result += 1\n",
    "            \n",
    "            counter.subtract(task)\n",
    "            # 0 이하인 아이템을 목록에서 완전히 제거\n",
    "            counter += collections.Counter()\n",
    "            \n",
    "        if not counter:\n",
    "            break\n",
    "            \n",
    "        result += n - sub_count + 1\n",
    "        \n",
    "    return result\n",
    "\n",
    "leastInterval(tasks, n)"
   ]
  }
 ],
 "metadata": {
  "kernelspec": {
   "display_name": "Python 3",
   "language": "python",
   "name": "python3"
  },
  "language_info": {
   "codemirror_mode": {
    "name": "ipython",
    "version": 3
   },
   "file_extension": ".py",
   "mimetype": "text/x-python",
   "name": "python",
   "nbconvert_exporter": "python",
   "pygments_lexer": "ipython3",
   "version": "3.8.5"
  }
 },
 "nbformat": 4,
 "nbformat_minor": 4
}

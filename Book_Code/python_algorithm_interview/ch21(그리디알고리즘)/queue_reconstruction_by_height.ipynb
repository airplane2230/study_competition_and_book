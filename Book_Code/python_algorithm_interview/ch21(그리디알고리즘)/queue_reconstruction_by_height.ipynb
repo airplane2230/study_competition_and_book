{
 "cells": [
  {
   "cell_type": "code",
   "execution_count": null,
   "metadata": {},
   "outputs": [],
   "source": [
    "test_case = [\n",
    "    [7, 0],\n",
    "    [4, 4],\n",
    "    [7, 1],\n",
    "    [5, 0],\n",
    "    [6, 1], \n",
    "    [5, 2]\n",
    "]"
   ]
  },
  {
   "cell_type": "markdown",
   "metadata": {},
   "source": [
    "## 우선순위 큐 이용"
   ]
  },
  {
   "cell_type": "code",
   "execution_count": null,
   "metadata": {},
   "outputs": [],
   "source": [
    "from typing import List\n",
    "import heapq\n",
    "\n",
    "def reconstructQueue(people: List[List[int]]) -> List[List[int]]:\n",
    "    heap = []\n",
    "    \n",
    "    for person in people:\n",
    "        heapq.heappush(heap, (-person[0], person[1]))\n",
    "        \n",
    "    result = []\n",
    "    \n",
    "    while heap:\n",
    "        person = heapq.heappop(heap)\n",
    "        result.insert(person[1], [-person[0], person[1]])\n",
    "        \n",
    "    return result\n",
    "\n",
    "reconstructQueue(test_case)"
   ]
  }
 ],
 "metadata": {
  "kernelspec": {
   "display_name": "Python 3",
   "language": "python",
   "name": "python3"
  },
  "language_info": {
   "codemirror_mode": {
    "name": "ipython",
    "version": 3
   },
   "file_extension": ".py",
   "mimetype": "text/x-python",
   "name": "python",
   "nbconvert_exporter": "python",
   "pygments_lexer": "ipython3",
   "version": "3.8.5"
  }
 },
 "nbformat": 4,
 "nbformat_minor": 4
}

{
 "cells": [
  {
   "cell_type": "code",
   "execution_count": null,
   "metadata": {},
   "outputs": [],
   "source": [
    "gas = [1, 2, 3, 4, 5]\n",
    "cost = [3, 4, 5, 1, 2]"
   ]
  },
  {
   "cell_type": "markdown",
   "metadata": {},
   "source": [
    "## 모두 방문"
   ]
  },
  {
   "cell_type": "code",
   "execution_count": null,
   "metadata": {},
   "outputs": [],
   "source": [
    "from typing import List\n",
    "\n",
    "def canCompleteCircuit(gas: List[int], cost: List[int]) -> int:\n",
    "    for start in range(len(gas)):\n",
    "        fuel = 0\n",
    "        for i in range(start, len(gas) + start):\n",
    "            index = i % len(gas)\n",
    "            \n",
    "            can_travel = True\n",
    "            if gas[index] + fuel < cost[index]:\n",
    "                can_travel = False\n",
    "                break\n",
    "            else:\n",
    "                fuel += gas[index] - cost[index]\n",
    "                \n",
    "        if can_travel:\n",
    "            return start\n",
    "        \n",
    "    return -1\n",
    "\n",
    "canCompleteCircuit(gas, cost)"
   ]
  },
  {
   "cell_type": "markdown",
   "metadata": {},
   "source": [
    "## 한 번 방문"
   ]
  },
  {
   "cell_type": "code",
   "execution_count": null,
   "metadata": {},
   "outputs": [],
   "source": [
    "def canCompleteCircuit(gas: List[int], cost: List[int]) -> int:\n",
    "    if sum(gas) < sum(cost):\n",
    "        return -1\n",
    "    \n",
    "    start, fuel = 0, 0\n",
    "    for i in range(len(gas)):\n",
    "        if gas[i] + fuel < cost[i]:\n",
    "            start = i + 1\n",
    "            fuel = 0\n",
    "        else:\n",
    "            fuel += gas[i] - cost[i]\n",
    "            \n",
    "    return start\n",
    "    \n",
    "canCompleteCircuit(gas, cost)"
   ]
  }
 ],
 "metadata": {
  "kernelspec": {
   "display_name": "Python 3",
   "language": "python",
   "name": "python3"
  },
  "language_info": {
   "codemirror_mode": {
    "name": "ipython",
    "version": 3
   },
   "file_extension": ".py",
   "mimetype": "text/x-python",
   "name": "python",
   "nbconvert_exporter": "python",
   "pygments_lexer": "ipython3",
   "version": "3.8.5"
  }
 },
 "nbformat": 4,
 "nbformat_minor": 4
}

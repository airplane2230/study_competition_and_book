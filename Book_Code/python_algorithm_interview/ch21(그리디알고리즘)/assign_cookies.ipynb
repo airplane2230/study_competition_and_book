{
 "cells": [
  {
   "cell_type": "code",
   "execution_count": null,
   "metadata": {},
   "outputs": [],
   "source": [
    "a = [1, 2, 3]\n",
    "b = [1, 1]"
   ]
  },
  {
   "cell_type": "markdown",
   "metadata": {},
   "source": [
    "# 그리디 알고리즘"
   ]
  },
  {
   "cell_type": "code",
   "execution_count": null,
   "metadata": {},
   "outputs": [],
   "source": [
    "from typing import List\n",
    "\n",
    "def findContentChildren(a: List[int], b:List[int]) -> int:\n",
    "    a.sort()\n",
    "    b.sort()\n",
    "    \n",
    "    child_i = cookie_j = 0\n",
    "    \n",
    "    while child_i < len(a) and cookie_j < len(b):\n",
    "        if b[cookie_j] >= a[child_i]:\n",
    "            child_i += 1\n",
    "        cookie_j += 1\n",
    "        \n",
    "    return child_i\n",
    "\n",
    "findContentChildren(a, b)"
   ]
  },
  {
   "cell_type": "markdown",
   "metadata": {},
   "source": [
    "## 이진 검색"
   ]
  },
  {
   "cell_type": "code",
   "execution_count": null,
   "metadata": {},
   "outputs": [],
   "source": [
    "import bisect\n",
    "\n",
    "def findContentChildren(a: List[int], b:List[int]) -> int:\n",
    "    a.sort()\n",
    "    b.sort()\n",
    "    \n",
    "    result = 0\n",
    "    for i in b:\n",
    "        index = bisect.bisect_right(a, i)\n",
    "        if index > result:\n",
    "            result += 1\n",
    "            \n",
    "    return result\n",
    "\n",
    "findContentChildren(a, b)"
   ]
  }
 ],
 "metadata": {
  "kernelspec": {
   "display_name": "Python 3",
   "language": "python",
   "name": "python3"
  },
  "language_info": {
   "codemirror_mode": {
    "name": "ipython",
    "version": 3
   },
   "file_extension": ".py",
   "mimetype": "text/x-python",
   "name": "python",
   "nbconvert_exporter": "python",
   "pygments_lexer": "ipython3",
   "version": "3.8.5"
  }
 },
 "nbformat": 4,
 "nbformat_minor": 4
}

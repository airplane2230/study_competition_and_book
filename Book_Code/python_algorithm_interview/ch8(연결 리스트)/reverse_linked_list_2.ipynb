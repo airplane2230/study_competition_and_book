{
 "cells": [
  {
   "cell_type": "markdown",
   "metadata": {},
   "source": [
    "input: 1 -> 2 -> 3 -> 4 -> 5 -> NULL, m = 2, n = 4\n",
    "    \n",
    "output: 1 -> 4 -> 3 -> 2 -> 5 -> NULL"
   ]
  },
  {
   "cell_type": "markdown",
   "metadata": {},
   "source": [
    "## 반복 구조로 노드 뒤집기"
   ]
  },
  {
   "cell_type": "code",
   "execution_count": null,
   "metadata": {},
   "outputs": [],
   "source": [
    "def reverseBetween(head: ListNode, m: int, n: int) -> ListNode:\n",
    "    if not head or m == n:\n",
    "        return head\n",
    "    \n",
    "    root = start = ListNode(None)\n",
    "    root.next = head\n",
    "    \n",
    "    for _ in range(m - 1):\n",
    "        start = start.next\n",
    "    end = start.next\n",
    "    \n",
    "    for _ in range(n - m):\n",
    "        tmp, start.next, end.next = start.next, end.next, end.next.next\n",
    "        start.next.next = tmp\n",
    "        \n",
    "    return root.next"
   ]
  }
 ],
 "metadata": {
  "kernelspec": {
   "display_name": "Python 3",
   "language": "python",
   "name": "python3"
  },
  "language_info": {
   "codemirror_mode": {
    "name": "ipython",
    "version": 3
   },
   "file_extension": ".py",
   "mimetype": "text/x-python",
   "name": "python",
   "nbconvert_exporter": "python",
   "pygments_lexer": "ipython3",
   "version": "3.8.5"
  }
 },
 "nbformat": 4,
 "nbformat_minor": 4
}

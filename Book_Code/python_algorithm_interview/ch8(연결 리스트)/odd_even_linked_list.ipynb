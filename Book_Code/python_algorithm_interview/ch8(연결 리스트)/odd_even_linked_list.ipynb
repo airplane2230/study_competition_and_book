{
 "cells": [
  {
   "cell_type": "markdown",
   "metadata": {},
   "source": [
    "input: 1 -> 2 -> 3 -> 4 -> 5 -> None\n",
    "    \n",
    "output: 1 -> 3 -> 5 -> 2 -> 4 -> None"
   ]
  },
  {
   "cell_type": "markdown",
   "metadata": {},
   "source": [
    "## 반복 구조로 홀짝 노드 처리 "
   ]
  },
  {
   "cell_type": "code",
   "execution_count": null,
   "metadata": {},
   "outputs": [],
   "source": [
    "def oddEvenList(head: ListNode) -> ListNode:\n",
    "    # 예외 처리\n",
    "    if head is None:\n",
    "        return None\n",
    "    \n",
    "    odd = head\n",
    "    even = head.next\n",
    "    even_head = head.next\n",
    "    \n",
    "    # 반복하면서 홀짝 노드 처리\n",
    "    while even and even.next:\n",
    "        odd.next, even.next = odd.next.next, even.next.next\n",
    "        odd, even = odd.next, even.next\n",
    "        \n",
    "    odd.next = even_head\n",
    "    \n",
    "    return head"
   ]
  }
 ],
 "metadata": {
  "kernelspec": {
   "display_name": "Python 3",
   "language": "python",
   "name": "python3"
  },
  "language_info": {
   "codemirror_mode": {
    "name": "ipython",
    "version": 3
   },
   "file_extension": ".py",
   "mimetype": "text/x-python",
   "name": "python",
   "nbconvert_exporter": "python",
   "pygments_lexer": "ipython3",
   "version": "3.8.5"
  }
 },
 "nbformat": 4,
 "nbformat_minor": 4
}

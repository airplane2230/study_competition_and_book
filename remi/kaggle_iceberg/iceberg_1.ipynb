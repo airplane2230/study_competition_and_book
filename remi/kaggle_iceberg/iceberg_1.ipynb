{
 "cells": [
  {
   "cell_type": "markdown",
   "metadata": {},
   "source": [
    "# 텐서플로우 설치 확인"
   ]
  },
  {
   "cell_type": "code",
   "execution_count": null,
   "metadata": {},
   "outputs": [],
   "source": [
    "import tensorflow as tf\n",
    "tf.__version__"
   ]
  },
  {
   "cell_type": "markdown",
   "metadata": {},
   "source": [
    "# 데이터 불러오기"
   ]
  },
  {
   "cell_type": "code",
   "execution_count": 1,
   "metadata": {
    "colab": {},
    "colab_type": "code",
    "id": "yDBharbFTw6b"
   },
   "outputs": [],
   "source": [
    "import numpy as np\n",
    "import pandas as pd\n",
    "import os\n",
    "\n",
    "PATH = './data/'\n",
    "\n",
    "train = pd.read_json(os.path.join(PATH, 'train.json'))\n",
    "test = pd.read_json(os.path.join(PATH, 'test.json'))"
   ]
  },
  {
   "cell_type": "markdown",
   "metadata": {},
   "source": [
    "# 데이터 들여다보기"
   ]
  },
  {
   "cell_type": "code",
   "execution_count": null,
   "metadata": {},
   "outputs": [],
   "source": [
    "train.info()"
   ]
  },
  {
   "cell_type": "markdown",
   "metadata": {},
   "source": [
    "# 데이터 그려보기"
   ]
  },
  {
   "cell_type": "code",
   "execution_count": 3,
   "metadata": {},
   "outputs": [
    {
     "data": {
      "text/plain": [
       "<Figure size 700x700 with 4 Axes>"
      ]
     },
     "metadata": {},
     "output_type": "display_data"
    }
   ],
   "source": [
    "# (75, 75)의 형태로 변경해줍니다.\n",
    "band_1 = np.array([np.array(band).reshape(75, 75) for band in train['band_1']])\n",
    "band_2 = np.array([np.array(band).reshape(75, 75) for band in train['band_2']])\n",
    "\n",
    "import matplotlib.pyplot as plt\n",
    "\n",
    "# 실제로 레이블이 선박인 데이터\n",
    "plt.figure(figsize=(7, 7))\n",
    "ax = plt.subplot(2, 2, 1); ax.imshow(band_1[0])\n",
    "ax.set_ylabel('ship', size = 15)\n",
    "ax2 = plt.subplot(2, 2, 2); ax2.imshow(band_2[0])\n",
    "\n",
    "# 실제로 레이블이 빙산인 데이터\n",
    "ax = plt.subplot(2, 2, 3); ax.imshow(band_1[6])\n",
    "ax.set_ylabel('iceberg', size = 15)\n",
    "ax2 = plt.subplot(2, 2, 4); ax2.imshow(band_2[6])\n",
    "plt.show()"
   ]
  },
  {
   "cell_type": "markdown",
   "metadata": {},
   "source": [
    "# 데이터 전처리 과정"
   ]
  },
  {
   "cell_type": "code",
   "execution_count": 4,
   "metadata": {},
   "outputs": [],
   "source": [
    "def get_mean_std(array):\n",
    "    return np.mean(array), np.std(array)\n",
    "\n",
    "band_1_mean, band_1_std = get_mean_std(band_1)\n",
    "band_2_mean, band_2_std = get_mean_std(band_2)\n",
    "\n",
    "# 각 이미지별로 표준화를 적용합니다.\n",
    "band_1_st = (band_1 - band_1_mean) / band_1_std\n",
    "band_2_st = (band_2 - band_2_mean) / band_2_std"
   ]
  },
  {
   "cell_type": "markdown",
   "metadata": {},
   "source": [
    "# 데이터 특성 및 검증 데이터 만들기"
   ]
  },
  {
   "cell_type": "code",
   "execution_count": 17,
   "metadata": {},
   "outputs": [
    {
     "name": "stdout",
     "output_type": "stream",
     "text": [
      "훈련 데이터 (1283, 75, 75, 3) 레이블 (1283,)\n",
      "검증 데이터 (321, 75, 75, 3) 레이블 (321,)\n"
     ]
    }
   ],
   "source": [
    "x_train = np.concatenate([band_1_st[:, :, :, np.newaxis], band_2_st[:, :, :, np.newaxis],\n",
    "                          ((band_1_st+band_2_st)/2)[:, :, :, np.newaxis]], axis=-1)\n",
    "y_train = np.array(train['is_iceberg'])\n",
    "\n",
    "from sklearn.model_selection import train_test_split\n",
    "\n",
    "# 훈련/테스트 데이터를 0.7/0.3의 비율로 분리합니다.\n",
    "x_train, x_val, y_train, y_val = train_test_split(x_train, y_train, test_size = 0.2, random_state = 777)\n",
    "print('훈련 데이터 {} 레이블 {}'.format(str(x_train.shape), str(y_train.shape)))\n",
    "print('검증 데이터 {} 레이블 {}'.format(str(x_val.shape), str(y_val.shape)))"
   ]
  },
  {
   "cell_type": "markdown",
   "metadata": {},
   "source": [
    "# 모델 구성하기"
   ]
  },
  {
   "cell_type": "code",
   "execution_count": 7,
   "metadata": {
    "colab": {},
    "colab_type": "code",
    "id": "Ark3r6UmjRrX"
   },
   "outputs": [],
   "source": [
    "from tensorflow.keras.models import Sequential\n",
    "from tensorflow.keras.layers import Dense, Flatten\n",
    "\n",
    "model = Sequential()\n",
    "# 입력 데이터의 형태를 꼭 명시해야 합니다.\n",
    "model.add(Flatten(input_shape = (75, 75, 3))) # (75, 75, 3) -> (75 * 75 * 3)\n",
    "model.add(Dense(512, activation = 'relu')) # 512개의 출력을 가지는 Dense 층\n",
    "model.add(Dense(256, activation = 'relu')) # 256개의 출력을 가지는 Dense 층\n",
    "model.add(Dense(128, activation = 'relu')) # 128개의 출력을 가지는 Dense 층\n",
    "model.add(Dense(64, activation = 'relu')) # 64개의 출력을 가지는 Dense 층\n",
    "model.add(Dense(1, activation = 'sigmoid')) # 1개의 출력을 가지는 신경망\n",
    "\n",
    "model.compile(optimizer='adam', # 옵티마이저 : Adam\n",
    "              loss = 'binary_crossentropy', # 손실 함수 : categorical_crossentropy\n",
    "              metrics=['acc']) # 모니터링 할 평가지표 : acc"
   ]
  },
  {
   "cell_type": "markdown",
   "metadata": {},
   "source": [
    "# 모델 학습하기"
   ]
  },
  {
   "cell_type": "code",
   "execution_count": 18,
   "metadata": {},
   "outputs": [
    {
     "name": "stdout",
     "output_type": "stream",
     "text": [
      "Train on 1283 samples, validate on 321 samples\n",
      "Epoch 1/10\n",
      "1283/1283 [==============================] - 27s 21ms/sample - loss: 1.6032 - acc: 0.5737 - val_loss: 1.8482 - val_acc: 0.5327\n",
      "Epoch 2/10\n",
      "1283/1283 [==============================] - 1s 505us/sample - loss: 1.4143 - acc: 0.6087 - val_loss: 1.5596 - val_acc: 0.6480\n",
      "Epoch 3/10\n",
      "1283/1283 [==============================] - 1s 567us/sample - loss: 0.8341 - acc: 0.6968 - val_loss: 1.2244 - val_acc: 0.6604\n",
      "Epoch 4/10\n",
      "1283/1283 [==============================] - 1s 533us/sample - loss: 1.0046 - acc: 0.7030 - val_loss: 0.7238 - val_acc: 0.6729\n",
      "Epoch 5/10\n",
      "1283/1283 [==============================] - 1s 498us/sample - loss: 0.6525 - acc: 0.7529 - val_loss: 0.7276 - val_acc: 0.6137\n",
      "Epoch 6/10\n",
      "1283/1283 [==============================] - 1s 571us/sample - loss: 0.4586 - acc: 0.8028 - val_loss: 0.6130 - val_acc: 0.6978\n",
      "Epoch 7/10\n",
      "1283/1283 [==============================] - 0s 366us/sample - loss: 0.2600 - acc: 0.8823 - val_loss: 0.7482 - val_acc: 0.7352\n",
      "Epoch 8/10\n",
      "1283/1283 [==============================] - 0s 328us/sample - loss: 0.1980 - acc: 0.9182 - val_loss: 1.4221 - val_acc: 0.6417\n",
      "Epoch 9/10\n",
      "1283/1283 [==============================] - 1s 422us/sample - loss: 0.5581 - acc: 0.8161 - val_loss: 1.0777 - val_acc: 0.7321\n",
      "Epoch 10/10\n",
      "1283/1283 [==============================] - 1s 414us/sample - loss: 0.2642 - acc: 0.8963 - val_loss: 0.6622 - val_acc: 0.7414\n"
     ]
    },
    {
     "data": {
      "text/plain": [
       "<tensorflow.python.keras.callbacks.History at 0x21feafb46d8>"
      ]
     },
     "execution_count": 18,
     "metadata": {},
     "output_type": "execute_result"
    }
   ],
   "source": [
    "model.fit(x_train, y_train, \n",
    "                epochs = 10, \n",
    "                batch_size = 64, \n",
    "                validation_data = (x_val, y_val))"
   ]
  },
  {
   "cell_type": "markdown",
   "metadata": {},
   "source": [
    "# 제출하기"
   ]
  },
  {
   "cell_type": "markdown",
   "metadata": {},
   "source": [
    "## 테스트 데이터셋 전처리 과정"
   ]
  },
  {
   "cell_type": "code",
   "execution_count": null,
   "metadata": {},
   "outputs": [],
   "source": [
    "test_band_1 = np.array([np.array(band).astype(np.float32).reshape(75, 75) for band in test[\"band_1\"]])\n",
    "test_band_2 = np.array([np.array(band).astype(np.float32).reshape(75, 75) for band in test[\"band_2\"]])\n",
    "\n",
    "test_band_1_st = (test_band_1 - band_1_mean) / band_1_std\n",
    "test_band_2_st = (test_band_2 - band_2_mean) / band_2_std\n",
    "\n",
    "x_test = np.concatenate([test_band_1_st[:, :, :, np.newaxis]\n",
    "                          , test_band_2_st[:, :, :, np.newaxis]\n",
    "                         , ((test_band_1_st+test_band_2_st)/2)[:, :, :, np.newaxis]], axis=-1)"
   ]
  },
  {
   "cell_type": "markdown",
   "metadata": {},
   "source": [
    "## 예측하기 및 제출용 파일 만들기"
   ]
  },
  {
   "cell_type": "code",
   "execution_count": null,
   "metadata": {},
   "outputs": [],
   "source": [
    "pred = model.predict(x_test)\n",
    "\n",
    "# 제출용 파일을 만듭니다. \n",
    "submission = pd.DataFrame()\n",
    "submission['id'] = test['id']\n",
    "submission['is_iceberg'] = pred.reshape((pred.shape[0]))\n",
    "submission.to_csv('sub.csv', index=False)"
   ]
  }
 ],
 "metadata": {
  "colab": {
   "collapsed_sections": [],
   "name": "iceberg.ipynb",
   "provenance": []
  },
  "kernelspec": {
   "display_name": "keras_study",
   "language": "python",
   "name": "keras_study"
  },
  "language_info": {
   "codemirror_mode": {
    "name": "ipython",
    "version": 3
   },
   "file_extension": ".py",
   "mimetype": "text/x-python",
   "name": "python",
   "nbconvert_exporter": "python",
   "pygments_lexer": "ipython3",
   "version": "3.7.3"
  }
 },
 "nbformat": 4,
 "nbformat_minor": 1
}
